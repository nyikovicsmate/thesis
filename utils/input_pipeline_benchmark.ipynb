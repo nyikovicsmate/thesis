{
 "nbformat": 4,
 "nbformat_minor": 0,
 "metadata": {
  "colab": {
   "name": "input_pipeline_benchmark.ipynb",
   "provenance": [],
   "collapsed_sections": []
  },
  "kernelspec": {
   "name": "python3",
   "display_name": "Python 3"
  },
  "pycharm": {
   "stem_cell": {
    "cell_type": "raw",
    "source": [],
    "metadata": {
     "collapsed": false
    }
   }
  }
 },
 "cells": [
  {
   "cell_type": "markdown",
   "metadata": {
    "id": "CdYZfI72x6LD",
    "colab_type": "text"
   },
   "source": [
    "## 1. Preparation\n",
    "\n",
    "Download and preprocess the BDD100k dataset, the steps equal the ones found in the [bdd100k.ipynb](https://github.com/nyikovicsmate/thesis/blob/dev/utils/datasets/bdd100k.ipynb) dataset preparation notebook."
   ]
  },
  {
   "cell_type": "code",
   "metadata": {
    "id": "uJ8IHjdx75qa",
    "colab_type": "code",
    "outputId": "32d1cbd0-ea66-4aec-feed-c202a1492daa",
    "colab": {
     "base_uri": "https://localhost:8080/",
     "height": 68
    }
   },
   "source": [
    "# get the dynamic download link\n",
    "!curl -s \"https://2x5kv9t5uf.execute-api.us-west-2.amazonaws.com/production?func=create_download_challenge_link&filename=bdd100k\"%\"2Fbdd100k_images.zip\" -H \"Accept: */*\" -o uri.txt\n",
    "# download the dataset (approx 6.5G)\n",
    "!xargs -n 1 curl -o \"bdd100k_images.zip\" < uri.txt\n",
    "# extract\n",
    "!unzip -q bdd100k_images.zip -d bdd100k_images\n",
    "\n",
    "# if there is a problem with unzipping it's most likely caused by a failed download\n",
    "# this can happen when colab is a little too slow to start the download and the dynamic download link expires\n",
    "# if this happens just try running the cell again"
   ],
   "execution_count": 1,
   "outputs": [
    {
     "output_type": "stream",
     "text": [
      "  % Total    % Received % Xferd  Average Speed   Time    Time     Time  Current\n",
      "                                 Dload  Upload   Total   Spent    Left  Speed\n",
      "100 6619M  100 6619M    0     0  38.4M      0  0:02:52  0:02:52 --:--:-- 37.8M\n"
     ],
     "name": "stdout"
    }
   ]
  },
  {
   "cell_type": "code",
   "metadata": {
    "id": "VQZHUKe18YrX",
    "colab_type": "code",
    "colab": {}
   },
   "source": [
    "# move things around\n",
    "!mv ./bdd100k_images/bdd100k/images/100k ./images "
   ],
   "execution_count": 0,
   "outputs": []
  },
  {
   "cell_type": "code",
   "metadata": {
    "id": "RCMSmpjhNb9s",
    "colab_type": "code",
    "colab": {}
   },
   "source": [
    "# cleanup\n",
    "!rm uri.txt\n",
    "!rm bdd100k_images.zip\n",
    "!rm -rf ./bdd100k_images\n",
    "!rm -rf sample_data"
   ],
   "execution_count": 0,
   "outputs": []
  },
  {
   "cell_type": "code",
   "metadata": {
    "id": "z80N9oPONb4s",
    "colab_type": "code",
    "colab": {}
   },
   "source": [
    "# download the preprocesing script\n",
    "!curl -s -O https://raw.githubusercontent.com/nyikovicsmate/thesis/dev/utils/preprocess.py\n",
    "# download requirements.txt\n",
    "!curl -s -O https://raw.githubusercontent.com/nyikovicsmate/thesis/dev/utils/requirements.txt"
   ],
   "execution_count": 0,
   "outputs": []
  },
  {
   "cell_type": "code",
   "metadata": {
    "id": "k1XEvXubNbv2",
    "colab_type": "code",
    "outputId": "ee4243d9-a720-466d-bef8-a87c302c9518",
    "colab": {
     "base_uri": "https://localhost:8080/",
     "height": 122
    }
   },
   "source": [
    "!pip3 install -q -r requirements.txt"
   ],
   "execution_count": 5,
   "outputs": [
    {
     "output_type": "stream",
     "text": [
      "\u001b[K     |████████████████████████████████| 61kB 3.1MB/s \n",
      "\u001b[K     |████████████████████████████████| 2.9MB 14.2MB/s \n",
      "\u001b[K     |████████████████████████████████| 1.6MB 39.9MB/s \n",
      "\u001b[31mERROR: tensorflow-federated 0.12.0 has requirement tensorflow~=2.1.0, but you'll have tensorflow 1.15.0 which is incompatible.\u001b[0m\n",
      "\u001b[31mERROR: tensorflow-federated 0.12.0 has requirement tensorflow-addons~=0.7.0, but you'll have tensorflow-addons 0.8.3 which is incompatible.\u001b[0m\n",
      "\u001b[?25h"
     ],
     "name": "stdout"
    }
   ]
  },
  {
   "cell_type": "code",
   "metadata": {
    "id": "khEdVEzmNf1f",
    "colab_type": "code",
    "outputId": "1bdc8345-398e-438d-d75e-c95c0ddb1fe1",
    "colab": {
     "base_uri": "https://localhost:8080/",
     "height": 493
    }
   },
   "source": [
    "!python3 preprocess.py -h"
   ],
   "execution_count": 6,
   "outputs": [
    {
     "output_type": "stream",
     "text": [
      "usage: preprocess.py [-h] [-a AUGMENT_VALUE] [-f {png,hdf,lmdb}] [-g]\n",
      "                     [-m {clip,clip_rnd,scale,scale_rnd}] [-s SIZE SIZE]\n",
      "                     [dst] [src [src ...]]\n",
      "\n",
      "positional arguments:\n",
      "  dst                   Name of the output file/directory. Can also be path\n",
      "                        e.g.: './results_png' or './a/b/hdf.h5'. (default:\n",
      "                        './dataset')\n",
      "  src                   Name(s) of the source directory(s) from where the\n",
      "                        search for images starts. Can also be path(s).\n",
      "                        (default: '.')\n",
      "\n",
      "optional arguments:\n",
      "  -h, --help            show this help message and exit\n",
      "  -a AUGMENT_VALUE, --augment AUGMENT_VALUE\n",
      "                        Besides preprocessed images, store augmented ones as\n",
      "                        well. Augmented image is a processed image with every\n",
      "                        2nd pixel (in a checkerboard pattern) set to\n",
      "                        augment_value [0-255].\n",
      "  -f {png,hdf,lmdb}, --format {png,hdf,lmdb}\n",
      "                        Output format to use. Supported: png, hdf, lmdb.\n",
      "                        (default: png)\n",
      "  -g, --grayscale       Grayscale images.\n",
      "  -m {clip,clip_rnd,scale,scale_rnd}, --method {clip,clip_rnd,scale,scale_rnd}\n",
      "                        Processing method to use. (default: scale)\n",
      "  -s SIZE SIZE, --size SIZE SIZE\n",
      "                        Output size of images [height, width]. (default: [70,\n",
      "                        70])\n"
     ],
     "name": "stdout"
    }
   ]
  },
  {
   "cell_type": "code",
   "metadata": {
    "id": "bpt_S8h0Nhfr",
    "colab_type": "code",
    "outputId": "a52442b7-b603-4970-ab40-5877302fa312",
    "colab": {
     "base_uri": "https://localhost:8080/",
     "height": 374
    }
   },
   "source": [
    "# preprocess the dataset\n",
    "!python3 preprocess.py -f \"hdf\" -m \"clip\" -g -s 70 70 ./bdd100k_hdf ./images\n",
    "!python3 preprocess.py -f \"lmdb\" -m \"clip\" -g -s 70 70 ./bdd100k_lmdb ./images\n",
    "!python3 preprocess.py -f \"png\" -m \"clip\" -g -s 70 70 ./bdd100k_png ./images"
   ],
   "execution_count": 7,
   "outputs": [
    {
     "output_type": "stream",
     "text": [
      "Looking for images under: \n",
      "/content/images\n",
      "Found 100000 images.\n",
      "Processing & saving images under:\n",
      "/content/bdd100k_hdf.h5\n",
      "100% 100000/100000 [20:12<00:00, 82.45it/s]\n",
      "Done.\n",
      "Looking for images under: \n",
      "/content/images\n",
      "Found 100000 images.\n",
      "Processing & saving images under:\n",
      "/content/bdd100k_lmdb\n",
      "100% 100000/100000 [29:52<00:00, 55.78it/s]\n",
      "Done.\n",
      "Looking for images under: \n",
      "/content/images\n",
      "Found 100000 images.\n",
      "Processing & saving images under:\n",
      "/content/bdd100k_png\n",
      "100% 100000/100000 [18:37<00:00, 89.46it/s]\n",
      "Done.\n"
     ],
     "name": "stdout"
    }
   ]
  },
  {
   "cell_type": "markdown",
   "metadata": {
    "id": "VujUgifeOJtX",
    "colab_type": "text"
   },
   "source": [
    "## 2. Benchmarking\n",
    "\n",
    "This point all 3 formats contain the same 100000 70x70 px grayscale images. The benchmarks are focused on the following 4 details of each format:\n",
    "\n",
    "1.   the **disk size** of the dataset\n",
    "2.   random **single image** read speed\n",
    "3.   **sequential batch** read speed \n",
    "4.   **random batch** read speed\n",
    "\n",
    "\n",
    "1.   **disk size benchmark**: calculating the hard disk space the dataset in the given format occupies.\n",
    "2.   **single image read benchmark**: given 100 random indexes in the range of (0, 100000) measuring how long does it take on average to read one.\n",
    "3. **sequential batch benchmark**: with a batch size of 100 indexes, and with the indexes being sequentially ordered (e.g. 1st batch (0-99), 2nd (100-199) and so on), measuring how long does it take to read the the first 10000 items into memory.\n",
    "4. **random batch benchmark**: with a batch size of 100 indexes, and the indexes in each batch are in a random order, measuring how long does it take to read the the first 10000 items into memory.\n"
   ]
  },
  {
   "cell_type": "code",
   "metadata": {
    "id": "Yw-WhYrR8kYC",
    "colab_type": "code",
    "colab": {}
   },
   "source": [
    "import pathlib\n",
    "import h5py\n",
    "import lmdb\n",
    "import cv2\n",
    "from google.colab.patches import cv2_imshow\n",
    "import pickle\n",
    "from typing import List, Tuple\n",
    "import numpy as np\n",
    "import time\n",
    "import subprocess\n",
    "\n",
    "\n",
    "### helper functions\n",
    "\n",
    "\n",
    "def get_size(path: pathlib.Path):\n",
    "    \"\"\"\n",
    "    Returns the size of a file/directory in MB.\n",
    "    \"\"\"\n",
    "    size = subprocess.check_output(['du','-sh', path]).split()[0].decode('utf-8')\n",
    "    return size\n",
    "\n",
    "def get_random_batch() -> np.ndarray:\n",
    "    \"\"\"\n",
    "    Returns a 100 indexes from the range of (0,100000).\n",
    "    \"\"\"\n",
    "    return np.random.randint(0, 100000, 100)\n",
    "\n",
    "def get_sequential_batches() -> np.ndarray:\n",
    "    \"\"\"\n",
    "    Returns a 100 batches of 100 sequential indexes covering the range of (0,10000).\n",
    "    \"\"\"\n",
    "    idxs = np.arange(0, 10000)\n",
    "    batches = np.reshape(idxs, (100, 100))\n",
    "    return batches\n",
    "\n",
    "def get_random_batches() -> np.ndarray:\n",
    "    \"\"\"\n",
    "    Returns a 100 batches of 100 random indexes covering the range of (0,100000).\n",
    "    \"\"\"\n",
    "    idxs = np.arange(0, 100000)[:10000]\n",
    "    np.random.shuffle(idxs)\n",
    "    batches = np.reshape(idxs, (100, 100))\n",
    "    return batches\n",
    "\n",
    "\n",
    "### single image read functions \n",
    "\n",
    "\n",
    "def read_single_png(idx: int):\n",
    "    \"\"\"\n",
    "    Utility function for reading an image back into memory.\n",
    "    \"\"\"\n",
    "    image_path = pathlib.Path.joinpath(pathlib.Path.cwd(), \"bdd100k_png\", \"images\", f\"{idx}.png\")\n",
    "    return np.array(cv2.imread(str(image_path), cv2.IMREAD_GRAYSCALE))\n",
    "\n",
    "def read_single_hdf(idx: int):\n",
    "    \"\"\"\n",
    "    Utility function for reading an image back into memory from a .h5 file.\n",
    "    \"\"\"\n",
    "    with h5py.File(pathlib.Path.joinpath(pathlib.Path.cwd(), \"bdd100k_hdf.h5\"), \"r\") as file:\n",
    "        image = np.array(file[\"images\"][idx])\n",
    "    return image\n",
    "\n",
    "def read_single_lmdb(idx: int):\n",
    "    \"\"\"\n",
    "    Utility function for reading an image back into memory from a lmdb database.\n",
    "    \"\"\"\n",
    "    lmdb_dir = pathlib.Path.joinpath(pathlib.Path.cwd(), \"bdd100k_lmdb\")\n",
    "    env = lmdb.open(str(lmdb_dir), readonly=True, max_dbs=2, readahead=False)\n",
    "    db = env.open_db(key=\"images\".encode(\"utf8\"))\n",
    "    with env.begin(db=db) as txn:\n",
    "        data = txn.get(f\"{idx}\".encode(\"utf8\"))\n",
    "        image = pickle.loads(data)\n",
    "    env.close()\n",
    "    return image\n",
    "\n",
    "\n",
    "### sequential batch read functions\n",
    "\n",
    "\n",
    "def read_sequential_png(idxs: List[int]):\n",
    "    return [read_single_png(idx) for idx in idxs]\n",
    "\n",
    "def read_sequential_hdf(idxs: List[int]):\n",
    "    with h5py.File(pathlib.Path.joinpath(pathlib.Path.cwd(), \"bdd100k_hdf.h5\"), \"r\") as file:\n",
    "        # h5py supports index ranges, read times are significantly faster \n",
    "        # than reading each image separately \n",
    "        images = np.array(file[\"images\"][idxs])\n",
    "    return images\n",
    "\n",
    "def read_sequential_lmdb(idxs: List[int]):\n",
    "    lmdb_dir = pathlib.Path.joinpath(pathlib.Path.cwd(), \"bdd100k_lmdb\")\n",
    "    images = []\n",
    "    # set readahead to True to fully utilize underlying os capabilities  \n",
    "    env = lmdb.open(str(lmdb_dir), readonly=True, max_dbs=2, readahead=True) \n",
    "    db = env.open_db(key=\"images\".encode(\"utf8\"))\n",
    "    with env.begin(db=db) as txn:\n",
    "        for idx in idxs:\n",
    "            data = txn.get(f\"{idx}\".encode(\"utf8\"))\n",
    "            image = pickle.loads(data)\n",
    "            images.append(image)\n",
    "    env.close()\n",
    "    return images\n",
    "\n",
    "\n",
    "### random batch read functions \n",
    "\n",
    "\n",
    "def read_random_png(idxs: List[int]):\n",
    "    return read_sequential_png(idxs)\n",
    "\n",
    "def read_random_hdf(idxs: List[int]):\n",
    "    idxs_sorted = list(sorted(idxs))    \n",
    "    with h5py.File(pathlib.Path.joinpath(pathlib.Path.cwd(), \"bdd100k_hdf.h5\"), \"r\") as file:\n",
    "        # h5py supports index ranges, read times are significantly faster \n",
    "        # than reading each image separately \n",
    "        # but with random indexes the indexes must be in ascending order\n",
    "        images_sorted = np.array(file[\"images\"][idxs_sorted])\n",
    "    # drawback of this implementation, is that the images are read in the wrong order,\n",
    "    # so we have to unsort them\n",
    "    positions = dict(zip(idxs_sorted, np.arange(len(idxs_sorted))))\n",
    "    images = np.zeros_like(images_sorted)\n",
    "    for i, idx in enumerate(idxs):\n",
    "        images[i] = images_sorted[positions[idx]]\n",
    "    \n",
    "    return images\n",
    "\n",
    "def read_random_lmdb(idxs: List[int]):\n",
    "    lmdb_dir = pathlib.Path.joinpath(pathlib.Path.cwd(), \"bdd100k_lmdb\")\n",
    "    images = []\n",
    "    # set readahead to False to speed up random reads  \n",
    "    env = lmdb.open(str(lmdb_dir), readonly=True, max_dbs=2, readahead=False) \n",
    "    db = env.open_db(key=\"images\".encode(\"utf8\"))\n",
    "    with env.begin(db=db) as txn:\n",
    "        for idx in idxs:\n",
    "            data = txn.get(f\"{idx}\".encode(\"utf8\"))\n",
    "            image = pickle.loads(data)\n",
    "            images.append(image)\n",
    "    env.close()\n",
    "    return images\n"
   ],
   "execution_count": 0,
   "outputs": []
  },
  {
   "cell_type": "code",
   "metadata": {
    "id": "qDqgY979eYUL",
    "colab_type": "code",
    "colab": {}
   },
   "source": [
    "def size_benchmark():\n",
    "    results = {\"png\": 0, \"hdf\": 0, \"lmdb\": 0}\n",
    "    results[\"png\"] = get_size(pathlib.Path.joinpath(pathlib.Path.cwd(), \"bdd100k_png\"))\n",
    "    results[\"hdf\"] = get_size(pathlib.Path.joinpath(pathlib.Path.cwd(), \"bdd100k_hdf.h5\"))\n",
    "    results[\"lmdb\"] = get_size(pathlib.Path.joinpath(pathlib.Path.cwd(), \"bdd100k_lmdb\"))\n",
    "    results_png_percentages = {}\n",
    "    results_png_percentages[\"png\"] = \"100%\"\n",
    "    results_png_percentages[\"hdf\"] = f\"{((int(results['hdf'][0:-1]) / int(results['png'][0:-1]))*100):.0f}%\"\n",
    "    results_png_percentages[\"lmdb\"] = f\"{((int(results['lmdb'][0:-1]) / int(results['png'][0:-1]))*100):.0f}%\"\n",
    "    \n",
    "    return results, results_png_percentages\n",
    "\n",
    "def single_benchmark():\n",
    "    results = {\"png\": [], \"hdf\": [], \"lmdb\": []}\n",
    "    idxs = get_random_batch() # 100 random indexes\n",
    "    for idx in idxs:\n",
    "        start = time.time()\n",
    "        read_single_png(idx)\n",
    "        end = time.time()\n",
    "        results[\"png\"].append((end-start) * 1000) # time.time is in sec\n",
    "    results[\"png\"] = {\"min\":np.amin(results[\"png\"]) ,\"max\":np.amax(results[\"png\"]), \"avg\":np.mean(results[\"png\"])}\n",
    "\n",
    "    for idx in idxs:\n",
    "        start = time.time()\n",
    "        read_single_hdf(idx)\n",
    "        end = time.time()\n",
    "        results[\"hdf\"].append((end-start) * 1000) # time.time is in sec\n",
    "    results[\"hdf\"] = {\"min\":np.amin(results[\"hdf\"]) ,\"max\":np.amax(results[\"hdf\"]), \"avg\":np.mean(results[\"hdf\"])}\n",
    "\n",
    "    for idx in idxs:\n",
    "        start = time.time()\n",
    "        read_single_lmdb(idx)\n",
    "        end = time.time()\n",
    "        results[\"lmdb\"].append((end-start) * 1000) # time.time is in sec\n",
    "    results[\"lmdb\"] = {\"min\":np.amin(results[\"lmdb\"]) ,\"max\":np.amax(results[\"lmdb\"]), \"avg\":np.mean(results[\"lmdb\"])}\n",
    "\n",
    "    return results\n",
    "\n",
    "def sequential_batch_benchmark():\n",
    "    results = {\"png\": [], \"hdf\": [], \"lmdb\": []}\n",
    "    idxs = get_sequential_batches()\n",
    "\n",
    "    for idx in idxs:\n",
    "        start = time.time()\n",
    "        read_sequential_png(idx)\n",
    "        end = time.time()\n",
    "        results[\"png\"].append((end-start) * 1000) # time.time is in sec\n",
    "    results[\"png\"] = {\"min\":np.amin(results[\"png\"]) ,\"max\":np.amax(results[\"png\"]), \"avg\":np.mean(results[\"png\"])}\n",
    "\n",
    "    for idx in idxs:\n",
    "        start = time.time()\n",
    "        read_sequential_hdf(idx)\n",
    "        end = time.time()\n",
    "        results[\"hdf\"].append((end-start) * 1000) # time.time is in sec\n",
    "    results[\"hdf\"] = {\"min\":np.amin(results[\"hdf\"]) ,\"max\":np.amax(results[\"hdf\"]), \"avg\":np.mean(results[\"hdf\"])}\n",
    "\n",
    "    for idx in idxs:\n",
    "        start = time.time()\n",
    "        read_sequential_lmdb(idx)\n",
    "        end = time.time()\n",
    "        results[\"lmdb\"].append((end-start) * 1000) # time.time is in sec\n",
    "    results[\"lmdb\"] = {\"min\":np.amin(results[\"lmdb\"]) ,\"max\":np.amax(results[\"lmdb\"]), \"avg\":np.mean(results[\"lmdb\"])}\n",
    "    \n",
    "    return results\n",
    "\n",
    "\n",
    "def random_batch_benchmark():\n",
    "    results = {\"png\": [], \"hdf\": [], \"lmdb\": []}\n",
    "    idxs = get_random_batches()\n",
    "\n",
    "    for idx in idxs:\n",
    "        start = time.time()\n",
    "        read_random_png(idx)\n",
    "        end = time.time()\n",
    "        results[\"png\"].append((end-start) * 1000) # time.time is in sec\n",
    "    results[\"png\"] = {\"min\":np.amin(results[\"png\"]) ,\"max\":np.amax(results[\"png\"]), \"avg\":np.mean(results[\"png\"])}\n",
    "\n",
    "    for idx in idxs:\n",
    "        start = time.time()\n",
    "        read_random_hdf(idx)\n",
    "        end = time.time()\n",
    "        results[\"hdf\"].append((end-start) * 1000) # time.time is in sec\n",
    "    results[\"hdf\"] = {\"min\":np.amin(results[\"hdf\"]) ,\"max\":np.amax(results[\"hdf\"]), \"avg\":np.mean(results[\"hdf\"])}\n",
    "\n",
    "    for idx in idxs:\n",
    "        start = time.time()\n",
    "        read_random_lmdb(idx)\n",
    "        end = time.time()\n",
    "        results[\"lmdb\"].append((end-start) * 1000) # time.time is in sec\n",
    "    results[\"lmdb\"] = {\"min\":np.amin(results[\"lmdb\"]) ,\"max\":np.amax(results[\"lmdb\"]), \"avg\":np.mean(results[\"lmdb\"])}\n",
    "    \n",
    "    return results"
   ],
   "execution_count": 0,
   "outputs": []
  },
  {
   "cell_type": "markdown",
   "metadata": {
    "id": "cMz_yJlSjiYw",
    "colab_type": "text"
   },
   "source": [
    "## 3. Results"
   ]
  },
  {
   "cell_type": "markdown",
   "metadata": {
    "id": "twGCvswUjpyA",
    "colab_type": "text"
   },
   "source": [
    "### 3.1 Size benchmark"
   ]
  },
  {
   "cell_type": "code",
   "metadata": {
    "id": "yengAw3Ri2eh",
    "colab_type": "code",
    "outputId": "a9a09d8b-da4a-4686-ea09-7985a94c864c",
    "colab": {
     "base_uri": "https://localhost:8080/",
     "height": 68
    }
   },
   "source": [
    "print(\"Results of size benchmark [MB]\")\n",
    "results, percentages = size_benchmark() \n",
    "print(results)\n",
    "print(percentages)"
   ],
   "execution_count": 39,
   "outputs": [
    {
     "output_type": "stream",
     "text": [
      "Results of size benchmark [MB]\n",
      "{'png': '398M', 'hdf': '468M', 'lmdb': '786M'}\n",
      "{'png': '100%', 'hdf': '118%', 'lmdb': '197%'}\n"
     ],
     "name": "stdout"
    }
   ]
  },
  {
   "cell_type": "markdown",
   "metadata": {
    "id": "-DOnDF9sjuj4",
    "colab_type": "text"
   },
   "source": [
    "### 3.2 Single read benchmark"
   ]
  },
  {
   "cell_type": "code",
   "metadata": {
    "id": "uNjbGAbqceW4",
    "colab_type": "code",
    "colab": {}
   },
   "source": [
    "import matplotlib.pyplot as plt\n",
    "\n",
    "def plot_results(results, title):\n",
    "    area = 100\n",
    "    fig = plt.figure()\n",
    "    ax = fig.add_axes([0,0,1,1])\n",
    "    ax.scatter([0,1,2], [results[\"png\"][\"min\"],results[\"hdf\"][\"min\"], results[\"lmdb\"][\"min\"]], s=area, c=\"b\", alpha=0.5)\n",
    "    ax.scatter([0,1,2], [results[\"png\"][\"avg\"],results[\"hdf\"][\"avg\"], results[\"lmdb\"][\"avg\"]], s=area, c=\"g\", alpha=0.5)\n",
    "    ax.scatter([0,1,2], [results[\"png\"][\"max\"],results[\"hdf\"][\"max\"], results[\"lmdb\"][\"max\"]], s=area, c=\"r\", alpha=0.5)\n",
    "    ax.set_ylabel('Time [ms]')\n",
    "    ax.set_title(title)\n",
    "    plt.xticks([0,1,2], [\"PNG\",\"HDF\",\"LMDB\"])\n",
    "    ax.legend([\"min\", \"avg\", \"max\"])\n",
    "    ax.yaxis.grid(linestyle=\"--\")\n",
    "    plt.show()"
   ],
   "execution_count": 0,
   "outputs": []
  },
  {
   "cell_type": "code",
   "metadata": {
    "id": "-yUesMYhjgat",
    "colab_type": "code",
    "outputId": "e51f700c-a27a-420c-edc4-2e5417d31484",
    "colab": {
     "base_uri": "https://localhost:8080/",
     "height": 71
    }
   },
   "source": [
    "results = single_benchmark() \n",
    "print(\"Results of single read benchmark [ms]\")\n",
    "print(results)"
   ],
   "execution_count": 20,
   "outputs": [
    {
     "output_type": "stream",
     "text": [
      "Results of single read benchmark [ms]\n",
      "{'png': {'min': 0.08130073547363281, 'max': 2.4204254150390625, 'avg': 0.2021503448486328}, 'hdf': {'min': 0.6461143493652344, 'max': 5.602598190307617, 'avg': 2.957611083984375}, 'lmdb': {'min': 0.08869171142578125, 'max': 4.315614700317383, 'avg': 0.9606146812438965}}\n"
     ],
     "name": "stdout"
    }
   ]
  },
  {
   "cell_type": "code",
   "metadata": {
    "id": "nnT-8h1-zHUY",
    "colab_type": "code",
    "outputId": "2bd1c48e-d42c-49bc-b2e1-02230205df79",
    "colab": {
     "base_uri": "https://localhost:8080/",
     "height": 352
    }
   },
   "source": [
    "plot_results(results, \"Single read benchmark\")"
   ],
   "execution_count": 21,
   "outputs": [
    {
     "output_type": "display_data",
     "data": {
      "image/png": "[encoded data removed]",
      "text/plain": [
       "<Figure size 432x288 with 1 Axes>"
      ]
     },
     "metadata": {
      "tags": []
     }
    }
   ]
  },
  {
   "cell_type": "markdown",
   "metadata": {
    "id": "i6PbR4b_jz8k",
    "colab_type": "text"
   },
   "source": [
    "### 3.3 Sequential batch read benchmark"
   ]
  },
  {
   "cell_type": "code",
   "metadata": {
    "id": "sMeb-Tr6jzeI",
    "colab_type": "code",
    "outputId": "9dae440d-9e12-43d2-d5ba-42fb729d108c",
    "colab": {
     "base_uri": "https://localhost:8080/",
     "height": 71
    }
   },
   "source": [
    "results = sequential_batch_benchmark()\n",
    "print(\"Results of sequential batch read benchmark [ms]\")\n",
    "print(results)"
   ],
   "execution_count": 22,
   "outputs": [
    {
     "output_type": "stream",
     "text": [
      "Results of sequential batch read benchmark [ms]\n",
      "{'png': {'min': 9.310007095336914, 'max': 17.36927032470703, 'avg': 10.203871726989746}, 'hdf': {'min': 1.5230178833007812, 'max': 3.1850337982177734, 'avg': 1.7235398292541504}, 'lmdb': {'min': 0.7960796356201172, 'max': 1.9390583038330078, 'avg': 0.9548187255859375}}\n"
     ],
     "name": "stdout"
    }
   ]
  },
  {
   "cell_type": "code",
   "metadata": {
    "id": "wk13sijy7GPL",
    "colab_type": "code",
    "outputId": "d6cb093c-d108-46cd-c38f-d038a6fe3660",
    "colab": {
     "base_uri": "https://localhost:8080/",
     "height": 352
    }
   },
   "source": [
    "plot_results(results, \"Sequential batch read benchmark\")"
   ],
   "execution_count": 23,
   "outputs": [
    {
     "output_type": "display_data",
     "data": {
      "image/png": "[encoded data removed]",
      "text/plain": [
       "<Figure size 432x288 with 1 Axes>"
      ]
     },
     "metadata": {
      "tags": []
     }
    }
   ]
  },
  {
   "cell_type": "markdown",
   "metadata": {
    "id": "OUUQl25Sj6YW",
    "colab_type": "text"
   },
   "source": [
    "### 3.4 Random batch read benchmark"
   ]
  },
  {
   "cell_type": "code",
   "metadata": {
    "id": "I9P13SSxjzbR",
    "colab_type": "code",
    "outputId": "06edb6e6-5f33-4406-eb74-09a69f8c522a",
    "colab": {
     "base_uri": "https://localhost:8080/",
     "height": 71
    }
   },
   "source": [
    "results = random_batch_benchmark()\n",
    "print(\"Results of random batch read benchmark [ms]\")\n",
    "print(results)"
   ],
   "execution_count": 24,
   "outputs": [
    {
     "output_type": "stream",
     "text": [
      "Results of random batch read benchmark [ms]\n",
      "{'png': {'min': 9.398937225341797, 'max': 16.400814056396484, 'avg': 10.098152160644531}, 'hdf': {'min': 3.108978271484375, 'max': 4.130125045776367, 'avg': 3.3148980140686035}, 'lmdb': {'min': 1.5938282012939453, 'max': 3.0181407928466797, 'avg': 1.8186068534851074}}\n"
     ],
     "name": "stdout"
    }
   ]
  },
  {
   "cell_type": "code",
   "metadata": {
    "id": "H6NMwK1Q7NPZ",
    "colab_type": "code",
    "outputId": "3133130d-ed60-4020-84dc-ea2c2a27e92a",
    "colab": {
     "base_uri": "https://localhost:8080/",
     "height": 352
    }
   },
   "source": [
    "plot_results(results, \"Random batch read benchmark\")"
   ],
   "execution_count": 25,
   "outputs": [
    {
     "output_type": "display_data",
     "data": {
      "image/png": "[encoded data removed]",
      "text/plain": [
       "<Figure size 432x288 with 1 Axes>"
      ]
     },
     "metadata": {
      "tags": []
     }
    }
   ]
  }
 ]
}