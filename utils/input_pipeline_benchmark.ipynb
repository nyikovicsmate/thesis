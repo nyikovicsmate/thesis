{
  "nbformat": 4,
  "nbformat_minor": 0,
  "metadata": {
    "colab": {
      "name": "input_pipeline_benchmark.ipynb",
      "provenance": [],
      "collapsed_sections": []
    },
    "kernelspec": {
      "name": "python3",
      "display_name": "Python 3"
    }
  },
  "cells": [
    {
      "cell_type": "markdown",
      "metadata": {
        "id": "CdYZfI72x6LD",
        "colab_type": "text"
      },
      "source": [
        "## 1. Preparation\n",
        "\n",
        "Download and preprocess the BDD100k dataset, the steps equal the ones found in the [bdd100k.ipynb](https://github.com/nyikovicsmate/thesis/blob/dev/utils/datasets/bdd100k.ipynb) dataset preparation notebook."
      ]
    },
    {
      "cell_type": "code",
      "metadata": {
        "id": "uJ8IHjdx75qa",
        "colab_type": "code",
        "outputId": "fd0ab998-a694-4692-9c49-01d38db78960",
        "colab": {
          "base_uri": "https://localhost:8080/",
          "height": 68
        }
      },
      "source": [
        "# get the dynamic download link\n",
        "!curl -s \"https://2x5kv9t5uf.execute-api.us-west-2.amazonaws.com/production?func=create_download_challenge_link&filename=bdd100k\"%\"2Fbdd100k_images.zip\" -H \"Accept: */*\" -o uri.txt\n",
        "# download the dataset (approx 6.5G)\n",
        "!xargs -n 1 curl -o \"bdd100k_images.zip\" < uri.txt\n",
        "# extract\n",
        "!unzip -q bdd100k_images.zip -d bdd100k_images\n",
        "\n",
        "# if there is a problem with unzipping it's most likely caused by a failed download\n",
        "# this can happen when colab is a little too slow to start the download and the dynamic download link expires\n",
        "# if this happens just try running the cell again"
      ],
      "execution_count": 1,
      "outputs": [
        {
          "output_type": "stream",
          "text": [
            "  % Total    % Received % Xferd  Average Speed   Time    Time     Time  Current\n",
            "                                 Dload  Upload   Total   Spent    Left  Speed\n",
            "100 6619M  100 6619M    0     0  37.1M      0  0:02:58  0:02:58 --:--:-- 39.1M\n"
          ],
          "name": "stdout"
        }
      ]
    },
    {
      "cell_type": "code",
      "metadata": {
        "id": "VQZHUKe18YrX",
        "colab_type": "code",
        "colab": {}
      },
      "source": [
        "# move things around\n",
        "!mv ./bdd100k_images/bdd100k/images/100k ./images "
      ],
      "execution_count": 0,
      "outputs": []
    },
    {
      "cell_type": "code",
      "metadata": {
        "id": "RCMSmpjhNb9s",
        "colab_type": "code",
        "colab": {}
      },
      "source": [
        "# cleanup\n",
        "!rm uri.txt\n",
        "!rm bdd100k_images.zip\n",
        "!rm -rf ./bdd100k_images\n",
        "!rm -rf sample_data"
      ],
      "execution_count": 0,
      "outputs": []
    },
    {
      "cell_type": "code",
      "metadata": {
        "id": "z80N9oPONb4s",
        "colab_type": "code",
        "colab": {}
      },
      "source": [
        "# download the preprocesing script\n",
        "!curl -s -O https://raw.githubusercontent.com/nyikovicsmate/thesis/dev/utils/preprocess.py\n",
        "# download requirements.txt\n",
        "!curl -s -O https://raw.githubusercontent.com/nyikovicsmate/thesis/dev/utils/requirements.txt"
      ],
      "execution_count": 0,
      "outputs": []
    },
    {
      "cell_type": "code",
      "metadata": {
        "id": "k1XEvXubNbv2",
        "colab_type": "code",
        "outputId": "856bf764-1a24-49d6-e10b-3facfedcc6d9",
        "colab": {
          "base_uri": "https://localhost:8080/",
          "height": 513
        }
      },
      "source": [
        "!pip3 install -r requirements.txt"
      ],
      "execution_count": 5,
      "outputs": [
        {
          "output_type": "stream",
          "text": [
            "Requirement already satisfied: opencv-python>=4.1 in /usr/local/lib/python3.6/dist-packages (from -r requirements.txt (line 1)) (4.1.2.30)\n",
            "Requirement already satisfied: numpy>=1.18 in /usr/local/lib/python3.6/dist-packages (from -r requirements.txt (line 2)) (1.18.1)\n",
            "Collecting tqdm>=4.43\n",
            "\u001b[?25l  Downloading https://files.pythonhosted.org/packages/47/55/fd9170ba08a1a64a18a7f8a18f088037316f2a41be04d2fe6ece5a653e8f/tqdm-4.43.0-py2.py3-none-any.whl (59kB)\n",
            "\u001b[K     |████████████████████████████████| 61kB 3.1MB/s \n",
            "\u001b[?25hCollecting h5py>=2.10\n",
            "\u001b[?25l  Downloading https://files.pythonhosted.org/packages/60/06/cafdd44889200e5438b897388f3075b52a8ef01f28a17366d91de0fa2d05/h5py-2.10.0-cp36-cp36m-manylinux1_x86_64.whl (2.9MB)\n",
            "\u001b[K     |████████████████████████████████| 2.9MB 13.8MB/s \n",
            "\u001b[?25hRequirement already satisfied: lmdb>=0.98 in /usr/local/lib/python3.6/dist-packages (from -r requirements.txt (line 5)) (0.98)\n",
            "Collecting rawpy>=0.14.0\n",
            "\u001b[?25l  Downloading https://files.pythonhosted.org/packages/53/50/13dd9863a3e30b10f15e5abe7c1545db24a78cfe820c342978ae5d87e8c3/rawpy-0.14.0-cp36-cp36m-manylinux2010_x86_64.whl (1.6MB)\n",
            "\u001b[K     |████████████████████████████████| 1.6MB 41.9MB/s \n",
            "\u001b[?25hRequirement already satisfied: six in /usr/local/lib/python3.6/dist-packages (from h5py>=2.10->-r requirements.txt (line 4)) (1.12.0)\n",
            "\u001b[31mERROR: tensorflow-federated 0.12.0 has requirement tensorflow~=2.1.0, but you'll have tensorflow 1.15.0 which is incompatible.\u001b[0m\n",
            "\u001b[31mERROR: tensorflow-federated 0.12.0 has requirement tensorflow-addons~=0.7.0, but you'll have tensorflow-addons 0.8.3 which is incompatible.\u001b[0m\n",
            "Installing collected packages: tqdm, h5py, rawpy\n",
            "  Found existing installation: tqdm 4.28.1\n",
            "    Uninstalling tqdm-4.28.1:\n",
            "      Successfully uninstalled tqdm-4.28.1\n",
            "  Found existing installation: h5py 2.8.0\n",
            "    Uninstalling h5py-2.8.0:\n",
            "      Successfully uninstalled h5py-2.8.0\n",
            "Successfully installed h5py-2.10.0 rawpy-0.14.0 tqdm-4.43.0\n"
          ],
          "name": "stdout"
        },
        {
          "output_type": "display_data",
          "data": {
            "application/vnd.colab-display-data+json": {
              "pip_warning": {
                "packages": [
                  "tqdm"
                ]
              }
            }
          },
          "metadata": {
            "tags": []
          }
        }
      ]
    },
    {
      "cell_type": "code",
      "metadata": {
        "id": "khEdVEzmNf1f",
        "colab_type": "code",
        "outputId": "538d0d04-178f-49b1-f3c4-975ae3e42cdd",
        "colab": {
          "base_uri": "https://localhost:8080/",
          "height": 476
        }
      },
      "source": [
        "!python3 preprocess.py -h"
      ],
      "execution_count": 6,
      "outputs": [
        {
          "output_type": "stream",
          "text": [
            "usage: preprocess.py [-h] [-a AUGMENT_VALUE] [-f {png,hdf,lmdb}] [-g]\n",
            "                     [-m {clip,clip_rnd,scale,scale_rnd}] [-n NAME]\n",
            "                     [-s SIZE SIZE]\n",
            "                     [root]\n",
            "\n",
            "positional arguments:\n",
            "  root                  The root directory from where the search for images\n",
            "                        starts. (default: '.)'\n",
            "\n",
            "optional arguments:\n",
            "  -h, --help            show this help message and exit\n",
            "  -a AUGMENT_VALUE, --augment AUGMENT_VALUE\n",
            "                        Besides preprocessed images, store augmented ones as\n",
            "                        well. Augmented image is a processed image with every\n",
            "                        2nd pixel (in a checkerboard pattern) set to\n",
            "                        augment_value [0-255].\n",
            "  -f {png,hdf,lmdb}, --format {png,hdf,lmdb}\n",
            "                        Output format to use. Supported: png, hdf, lmdb.\n",
            "                        (default: png)\n",
            "  -g, --grayscale       Grayscale images.\n",
            "  -m {clip,clip_rnd,scale,scale_rnd}, --method {clip,clip_rnd,scale,scale_rnd}\n",
            "                        Processing method to use. (default: scale)\n",
            "  -n NAME, --name NAME  Name of the output dataset file/directory. (default:\n",
            "                        'dataset')\n",
            "  -s SIZE SIZE, --size SIZE SIZE\n",
            "                        Output size of images [height, width]. (default: [225,\n",
            "                        225])\n"
          ],
          "name": "stdout"
        }
      ]
    },
    {
      "cell_type": "code",
      "metadata": {
        "id": "bpt_S8h0Nhfr",
        "colab_type": "code",
        "outputId": "4a1b2a18-5292-4f0b-cbb0-536968b7ed7e",
        "colab": {
          "base_uri": "https://localhost:8080/",
          "height": 272
        }
      },
      "source": [
        "# preprocess the dataset\n",
        "!python3 preprocess.py -n \"bdd100k_hdf\" -f \"hdf\" -m \"clip\" -g -s 70 70 \n",
        "!python3 preprocess.py -n \"bdd100k_lmdb\" -f \"lmdb\" -m \"clip\" -g -s 70 70 \n",
        "!python3 preprocess.py -n \"bdd100k_png\" -f \"png\" -m \"clip\" -g -s 70 70 "
      ],
      "execution_count": 7,
      "outputs": [
        {
          "output_type": "stream",
          "text": [
            "Looking for images under /content\n",
            "Found 100000 images.\n",
            "Processing images.\n",
            "100% 100000/100000 [22:17<00:00, 74.77it/s]\n",
            "Done.\n",
            "Looking for images under /content\n",
            "Found 100000 images.\n",
            "Processing images.\n",
            "100% 100000/100000 [31:14<00:00, 53.36it/s]\n",
            "Done.\n",
            "Looking for images under /content\n",
            "Found 100000 images.\n",
            "Processing images.\n",
            "100% 100000/100000 [19:42<00:00, 84.58it/s]\n",
            "Done.\n"
          ],
          "name": "stdout"
        }
      ]
    },
    {
      "cell_type": "markdown",
      "metadata": {
        "id": "VujUgifeOJtX",
        "colab_type": "text"
      },
      "source": [
        "## 2. Benchmarking\n",
        "\n",
        "This point all 3 formats contain the same 100000 70x70 px grayscale images. The benchmarks are focused on the following 4 details of each format:\n",
        "\n",
        "1.   the **disk size** of the dataset\n",
        "2.   random **single image** read speed\n",
        "3.   **sequential batch** read speed \n",
        "4.   **random batch** read speed\n",
        "\n",
        "\n",
        "1.   **disk size benchmark**: calculating the hard disk space the dataset in the given format occupies.\n",
        "2.   **single image read benchmark**: given 100 random indexes in the range of (0, 100000) measuring how long does it take on average to read one.\n",
        "3. **sequential batch benchmark**: with a batch size of 100 indexes, and with the indexes being sequentially ordered (e.g. 1st batch (0-99), 2nd (100-199) and so on), measuring how long does it take to read the the first 10000 items into memory.\n",
        "4. **random batch benchmark**: with a batch size of 100 indexes, and the indexes in each batch are in a random order, measuring how long does it take to read the the first 10000 items into memory.\n"
      ]
    },
    {
      "cell_type": "code",
      "metadata": {
        "id": "Yw-WhYrR8kYC",
        "colab_type": "code",
        "colab": {}
      },
      "source": [
        "import pathlib\n",
        "import h5py\n",
        "import lmdb\n",
        "import cv2\n",
        "from google.colab.patches import cv2_imshow\n",
        "import pickle\n",
        "from typing import List, Tuple\n",
        "import numpy as np\n",
        "import time\n",
        "import subprocess\n",
        "\n",
        "\n",
        "### helper functions\n",
        "\n",
        "\n",
        "def get_size(path: pathlib.Path):\n",
        "    \"\"\"\n",
        "    Returns the size of a file/directory in MB.\n",
        "    \"\"\"\n",
        "    size = subprocess.check_output(['du','-sh', path]).split()[0].decode('utf-8')\n",
        "    return size\n",
        "\n",
        "def get_random_batch() -> np.ndarray:\n",
        "    \"\"\"\n",
        "    Returns a 100 indexes from the range of (0,100000).\n",
        "    \"\"\"\n",
        "    return np.random.randint(0, 100000, 100)\n",
        "\n",
        "def get_sequential_batches() -> np.ndarray:\n",
        "    \"\"\"\n",
        "    Returns a 100 batches of 100 sequential indexes covering the range of (0,10000).\n",
        "    \"\"\"\n",
        "    idxs = np.arange(0, 10000)\n",
        "    batches = np.reshape(idxs, (100, 100))\n",
        "    return batches\n",
        "\n",
        "def get_random_batches() -> np.ndarray:\n",
        "    \"\"\"\n",
        "    Returns a 100 batches of 100 random indexes covering the range of (0,100000).\n",
        "    \"\"\"\n",
        "    idxs = np.arange(0, 100000)[:10000]\n",
        "    np.random.shuffle(idxs)\n",
        "    batches = np.reshape(idxs, (100, 100))\n",
        "    return batches\n",
        "\n",
        "\n",
        "### single image read functions \n",
        "\n",
        "\n",
        "def read_single_png(idx: int):\n",
        "    \"\"\"\n",
        "    Utility function for reading an image back into memory.\n",
        "    \"\"\"\n",
        "    image_path = pathlib.Path.joinpath(pathlib.Path.cwd(), \"bdd100k_png\", \"images\", f\"{idx}.png\")\n",
        "    return np.array(cv2.imread(str(image_path), cv2.IMREAD_GRAYSCALE))\n",
        "\n",
        "def read_single_hdf(idx: int):\n",
        "    \"\"\"\n",
        "    Utility function for reading an image back into memory from a .h5 file.\n",
        "    \"\"\"\n",
        "    with h5py.File(pathlib.Path.joinpath(pathlib.Path.cwd(), \"bdd100k_hdf.h5\"), \"r\") as file:\n",
        "        image = np.array(file[\"images\"][idx])\n",
        "    return image\n",
        "\n",
        "def read_single_lmdb(idx: int):\n",
        "    \"\"\"\n",
        "    Utility function for reading an image back into memory from a lmdb database.\n",
        "    \"\"\"\n",
        "    lmdb_dir = pathlib.Path.joinpath(pathlib.Path.cwd(), \"bdd100k_lmdb\")\n",
        "    env = lmdb.open(str(lmdb_dir), readonly=True, max_dbs=2, readahead=False)\n",
        "    db = env.open_db(key=\"images\".encode(\"utf8\"))\n",
        "    with env.begin(db=db) as txn:\n",
        "        data = txn.get(f\"{idx}\".encode(\"utf8\"))\n",
        "        image = pickle.loads(data)\n",
        "    env.close()\n",
        "    return image\n",
        "\n",
        "\n",
        "### sequential batch read functions\n",
        "\n",
        "\n",
        "def read_sequential_png(idxs: List[int]):\n",
        "    return [read_single_png(idx) for idx in idxs]\n",
        "\n",
        "def read_sequential_hdf(idxs: List[int]):\n",
        "    with h5py.File(pathlib.Path.joinpath(pathlib.Path.cwd(), \"bdd100k_hdf.h5\"), \"r\") as file:\n",
        "        # h5py supports index ranges, read times are significantly faster \n",
        "        # than reading each image separately \n",
        "        images = np.array(file[\"images\"][idxs])\n",
        "    return images\n",
        "\n",
        "def read_sequential_lmdb(idxs: List[int]):\n",
        "    lmdb_dir = pathlib.Path.joinpath(pathlib.Path.cwd(), \"bdd100k_lmdb\")\n",
        "    images = []\n",
        "    # set readahead to True to fully utilize underlying os capabilities  \n",
        "    env = lmdb.open(str(lmdb_dir), readonly=True, max_dbs=2, readahead=True) \n",
        "    db = env.open_db(key=\"images\".encode(\"utf8\"))\n",
        "    with env.begin(db=db) as txn:\n",
        "        for idx in idxs:\n",
        "            data = txn.get(f\"{idx}\".encode(\"utf8\"))\n",
        "            image = pickle.loads(data)\n",
        "            images.append(image)\n",
        "    env.close()\n",
        "    return images\n",
        "\n",
        "\n",
        "### random batch read functions \n",
        "\n",
        "\n",
        "def read_random_png(idxs: List[int]):\n",
        "    return read_sequential_png(idxs)\n",
        "\n",
        "def read_random_hdf(idxs: List[int]):\n",
        "    idxs = list(sorted(idxs))\n",
        "    with h5py.File(pathlib.Path.joinpath(pathlib.Path.cwd(), \"bdd100k_hdf.h5\"), \"r\") as file:\n",
        "        # h5py still supports index ranges, read times are significantly faster \n",
        "        # than reading each image separately \n",
        "        # but with random indexes the indexes must be in ascending order\n",
        "        images = np.array(file[\"images\"][idxs])\n",
        "    return images\n",
        "\n",
        "def read_random_lmdb(idxs: List[int]):\n",
        "    lmdb_dir = pathlib.Path.joinpath(pathlib.Path.cwd(), \"bdd100k_lmdb\")\n",
        "    images = []\n",
        "    # set readahead to False to speed up random reads  \n",
        "    env = lmdb.open(str(lmdb_dir), readonly=True, max_dbs=2, readahead=False) \n",
        "    db = env.open_db(key=\"images\".encode(\"utf8\"))\n",
        "    with env.begin(db=db) as txn:\n",
        "        for idx in idxs:\n",
        "            data = txn.get(f\"{idx}\".encode(\"utf8\"))\n",
        "            image = pickle.loads(data)\n",
        "            images.append(image)\n",
        "    env.close()\n",
        "    return images\n"
      ],
      "execution_count": 0,
      "outputs": []
    },
    {
      "cell_type": "code",
      "metadata": {
        "id": "qDqgY979eYUL",
        "colab_type": "code",
        "colab": {}
      },
      "source": [
        "def size_benchmark():\n",
        "    results = {\"png\": 0, \"hdf\": 0, \"lmdb\": 0}\n",
        "    results[\"png\"] = get_size(pathlib.Path.joinpath(pathlib.Path.cwd(), \"bdd100k_png\"))\n",
        "    results[\"hdf\"] = get_size(pathlib.Path.joinpath(pathlib.Path.cwd(), \"bdd100k_hdf.h5\"))\n",
        "    results[\"lmdb\"] = get_size(pathlib.Path.joinpath(pathlib.Path.cwd(), \"bdd100k_lmdb\"))\n",
        "    \n",
        "    return results\n",
        "\n",
        "def single_benchmark():\n",
        "    results = {\"png\": [], \"hdf\": [], \"lmdb\": []}\n",
        "    idxs = get_random_batch() # 100 random indexes\n",
        "    for idx in idxs:\n",
        "        start = time.time()\n",
        "        read_single_png(idx)\n",
        "        end = time.time()\n",
        "        results[\"png\"].append((end-start) * 1000) # time.time is in sec\n",
        "    results[\"png\"] = {\"min\":np.amin(results[\"png\"]) ,\"max\":np.amax(results[\"png\"]), \"avg\":np.mean(results[\"png\"])}\n",
        "\n",
        "    for idx in idxs:\n",
        "        start = time.time()\n",
        "        read_single_hdf(idx)\n",
        "        end = time.time()\n",
        "        results[\"hdf\"].append((end-start) * 1000) # time.time is in sec\n",
        "    results[\"hdf\"] = {\"min\":np.amin(results[\"hdf\"]) ,\"max\":np.amax(results[\"hdf\"]), \"avg\":np.mean(results[\"hdf\"])}\n",
        "\n",
        "    for idx in idxs:\n",
        "        start = time.time()\n",
        "        read_single_lmdb(idx)\n",
        "        end = time.time()\n",
        "        results[\"lmdb\"].append((end-start) * 1000) # time.time is in sec\n",
        "    results[\"lmdb\"] = {\"min\":np.amin(results[\"lmdb\"]) ,\"max\":np.amax(results[\"lmdb\"]), \"avg\":np.mean(results[\"lmdb\"])}\n",
        "\n",
        "    return results\n",
        "\n",
        "def sequential_batch_benchmark():\n",
        "    results = {\"png\": [], \"hdf\": [], \"lmdb\": []}\n",
        "    idxs = get_sequential_batches()\n",
        "\n",
        "    for idx in idxs:\n",
        "        start = time.time()\n",
        "        read_sequential_png(idx)\n",
        "        end = time.time()\n",
        "        results[\"png\"].append((end-start) * 1000) # time.time is in sec\n",
        "    results[\"png\"] = {\"min\":np.amin(results[\"png\"]) ,\"max\":np.amax(results[\"png\"]), \"avg\":np.mean(results[\"png\"])}\n",
        "\n",
        "    for idx in idxs:\n",
        "        start = time.time()\n",
        "        read_sequential_hdf(idx)\n",
        "        end = time.time()\n",
        "        results[\"hdf\"].append((end-start) * 1000) # time.time is in sec\n",
        "    results[\"hdf\"] = {\"min\":np.amin(results[\"hdf\"]) ,\"max\":np.amax(results[\"hdf\"]), \"avg\":np.mean(results[\"hdf\"])}\n",
        "\n",
        "    for idx in idxs:\n",
        "        start = time.time()\n",
        "        read_sequential_lmdb(idx)\n",
        "        end = time.time()\n",
        "        results[\"lmdb\"].append((end-start) * 1000) # time.time is in sec\n",
        "    results[\"lmdb\"] = {\"min\":np.amin(results[\"lmdb\"]) ,\"max\":np.amax(results[\"lmdb\"]), \"avg\":np.mean(results[\"lmdb\"])}\n",
        "    \n",
        "    return results\n",
        "\n",
        "\n",
        "def random_batch_benchmark():\n",
        "    results = {\"png\": [], \"hdf\": [], \"lmdb\": []}\n",
        "    idxs = get_random_batches()\n",
        "\n",
        "    for idx in idxs:\n",
        "        start = time.time()\n",
        "        read_random_png(idx)\n",
        "        end = time.time()\n",
        "        results[\"png\"].append((end-start) * 1000) # time.time is in sec\n",
        "    results[\"png\"] = {\"min\":np.amin(results[\"png\"]) ,\"max\":np.amax(results[\"png\"]), \"avg\":np.mean(results[\"png\"])}\n",
        "\n",
        "    for idx in idxs:\n",
        "        start = time.time()\n",
        "        read_random_hdf(idx)\n",
        "        end = time.time()\n",
        "        results[\"hdf\"].append((end-start) * 1000) # time.time is in sec\n",
        "    results[\"hdf\"] = {\"min\":np.amin(results[\"hdf\"]) ,\"max\":np.amax(results[\"hdf\"]), \"avg\":np.mean(results[\"hdf\"])}\n",
        "\n",
        "    for idx in idxs:\n",
        "        start = time.time()\n",
        "        read_random_lmdb(idx)\n",
        "        end = time.time()\n",
        "        results[\"lmdb\"].append((end-start) * 1000) # time.time is in sec\n",
        "    results[\"lmdb\"] = {\"min\":np.amin(results[\"lmdb\"]) ,\"max\":np.amax(results[\"lmdb\"]), \"avg\":np.mean(results[\"lmdb\"])}\n",
        "    \n",
        "    return results"
      ],
      "execution_count": 0,
      "outputs": []
    },
    {
      "cell_type": "markdown",
      "metadata": {
        "id": "cMz_yJlSjiYw",
        "colab_type": "text"
      },
      "source": [
        "## 3. Results"
      ]
    },
    {
      "cell_type": "markdown",
      "metadata": {
        "id": "twGCvswUjpyA",
        "colab_type": "text"
      },
      "source": [
        "### 3.1 Size benchmark"
      ]
    },
    {
      "cell_type": "code",
      "metadata": {
        "id": "yengAw3Ri2eh",
        "colab_type": "code",
        "outputId": "bb4db6ce-ce93-4f73-dbff-ff0b62300721",
        "colab": {
          "base_uri": "https://localhost:8080/",
          "height": 51
        }
      },
      "source": [
        "print(\"Results of size benchmark [MB]\")\n",
        "print(size_benchmark())"
      ],
      "execution_count": 106,
      "outputs": [
        {
          "output_type": "stream",
          "text": [
            "Results of size benchmark [MB]\n",
            "{'png': '398M', 'hdf': '468M', 'lmdb': '786M'}\n"
          ],
          "name": "stdout"
        }
      ]
    },
    {
      "cell_type": "markdown",
      "metadata": {
        "id": "-DOnDF9sjuj4",
        "colab_type": "text"
      },
      "source": [
        "### 3.2 Single read benchmark"
      ]
    },
    {
      "cell_type": "code",
      "metadata": {
        "id": "uNjbGAbqceW4",
        "colab_type": "code",
        "colab": {}
      },
      "source": [
        "import matplotlib.pyplot as plt\n",
        "\n",
        "def plot_results(results, title):\n",
        "    area = 100\n",
        "    fig = plt.figure()\n",
        "    ax = fig.add_axes([0,0,1,1])\n",
        "    ax.scatter([0,1,2], [results[\"png\"][\"min\"],results[\"hdf\"][\"min\"], results[\"lmdb\"][\"min\"]], s=area, c=\"b\", alpha=0.5)\n",
        "    ax.scatter([0,1,2], [results[\"png\"][\"avg\"],results[\"hdf\"][\"avg\"], results[\"lmdb\"][\"avg\"]], s=area, c=\"g\", alpha=0.5)\n",
        "    ax.scatter([0,1,2], [results[\"png\"][\"max\"],results[\"hdf\"][\"max\"], results[\"lmdb\"][\"max\"]], s=area, c=\"r\", alpha=0.5)\n",
        "    ax.set_ylabel('Time [ms]')\n",
        "    ax.set_title(title)\n",
        "    plt.xticks([0,1,2], [\"PNG\",\"HDF\",\"LMDB\"])\n",
        "    ax.legend([\"min\", \"avg\", \"max\"])\n",
        "    ax.yaxis.grid(linestyle=\"--\")\n",
        "    plt.show()"
      ],
      "execution_count": 0,
      "outputs": []
    },
    {
      "cell_type": "code",
      "metadata": {
        "id": "-yUesMYhjgat",
        "colab_type": "code",
        "outputId": "2e2f44d8-b488-45dd-f73e-b0c4b21dd757",
        "colab": {
          "base_uri": "https://localhost:8080/",
          "height": 71
        }
      },
      "source": [
        "results = single_benchmark() \n",
        "print(\"Results of single read benchmark [ms]\")\n",
        "print(results)"
      ],
      "execution_count": 81,
      "outputs": [
        {
          "output_type": "stream",
          "text": [
            "Results of single read benchmark [ms]\n",
            "{'png': {'min': 0.08845329284667969, 'max': 3.5390853881835938, 'avg': 0.40732860565185547}, 'hdf': {'min': 0.6649494171142578, 'max': 8.01992416381836, 'avg': 3.248569965362549}, 'lmdb': {'min': 0.11420249938964844, 'max': 5.121469497680664, 'avg': 1.8852043151855469}}\n"
          ],
          "name": "stdout"
        }
      ]
    },
    {
      "cell_type": "code",
      "metadata": {
        "id": "nnT-8h1-zHUY",
        "colab_type": "code",
        "colab": {
          "base_uri": "https://localhost:8080/",
          "height": 352
        },
        "outputId": "e37e16e2-eb31-4161-89ca-d9725ee0923b"
      },
      "source": [
        "plot_results(results, \"Single read benchmark\")"
      ],
      "execution_count": 82,
      "outputs": [
        {
          "output_type": "display_data",
          "data": {
            "image/png": "[encoded data removed]",
            "text/plain": [
              "<Figure size 432x288 with 1 Axes>"
            ]
          },
          "metadata": {
            "tags": []
          }
        }
      ]
    },
    {
      "cell_type": "markdown",
      "metadata": {
        "id": "i6PbR4b_jz8k",
        "colab_type": "text"
      },
      "source": [
        "### 3.3 Sequential batch read benchmark"
      ]
    },
    {
      "cell_type": "code",
      "metadata": {
        "id": "sMeb-Tr6jzeI",
        "colab_type": "code",
        "outputId": "8a6a25a8-f5a3-4f99-93ee-929822b9e5b7",
        "colab": {
          "base_uri": "https://localhost:8080/",
          "height": 71
        }
      },
      "source": [
        "results = sequential_batch_benchmark()\n",
        "print(\"Results of sequential batch read benchmark [ms]\")\n",
        "print(results)"
      ],
      "execution_count": 83,
      "outputs": [
        {
          "output_type": "stream",
          "text": [
            "Results of sequential batch read benchmark [ms]\n",
            "{'png': {'min': 9.64665412902832, 'max': 19.73438262939453, 'avg': 10.653190612792969}, 'hdf': {'min': 1.6088485717773438, 'max': 2.491474151611328, 'avg': 1.7261672019958496}, 'lmdb': {'min': 0.8058547973632812, 'max': 1.8067359924316406, 'avg': 0.9303188323974609}}\n"
          ],
          "name": "stdout"
        }
      ]
    },
    {
      "cell_type": "code",
      "metadata": {
        "id": "wk13sijy7GPL",
        "colab_type": "code",
        "colab": {
          "base_uri": "https://localhost:8080/",
          "height": 352
        },
        "outputId": "04500082-05cb-4655-8b43-f2e8dcb975cf"
      },
      "source": [
        "plot_results(results, \"Sequential batch read benchmark\")"
      ],
      "execution_count": 84,
      "outputs": [
        {
          "output_type": "display_data",
          "data": {
            "image/png": "[encoded data removed]",
            "text/plain": [
              "<Figure size 432x288 with 1 Axes>"
            ]
          },
          "metadata": {
            "tags": []
          }
        }
      ]
    },
    {
      "cell_type": "markdown",
      "metadata": {
        "id": "OUUQl25Sj6YW",
        "colab_type": "text"
      },
      "source": [
        "### 3.4 Random batch read benchmark"
      ]
    },
    {
      "cell_type": "code",
      "metadata": {
        "id": "I9P13SSxjzbR",
        "colab_type": "code",
        "outputId": "e55e4c31-1d1e-4c4f-8a08-9e43f0397a75",
        "colab": {
          "base_uri": "https://localhost:8080/",
          "height": 71
        }
      },
      "source": [
        "results = random_batch_benchmark()\n",
        "print(\"Results of random batch read benchmark [ms]\")\n",
        "print(results)"
      ],
      "execution_count": 85,
      "outputs": [
        {
          "output_type": "stream",
          "text": [
            "Results of random batch read benchmark [ms]\n",
            "{'png': {'min': 9.74130630493164, 'max': 14.824867248535156, 'avg': 10.583851337432861}, 'hdf': {'min': 3.1538009643554688, 'max': 4.2324066162109375, 'avg': 3.3808398246765137}, 'lmdb': {'min': 1.687765121459961, 'max': 3.113269805908203, 'avg': 1.9166016578674316}}\n"
          ],
          "name": "stdout"
        }
      ]
    },
    {
      "cell_type": "code",
      "metadata": {
        "id": "H6NMwK1Q7NPZ",
        "colab_type": "code",
        "colab": {
          "base_uri": "https://localhost:8080/",
          "height": 352
        },
        "outputId": "37d1a51b-0f50-4239-a53c-1627a4d99ce1"
      },
      "source": [
        "plot_results(results, \"Random batch read benchmark\")"
      ],
      "execution_count": 86,
      "outputs": [
        {
          "output_type": "display_data",
          "data": {
            "image/png": "[encoded data removed]",
            "text/plain": [
              "<Figure size 432x288 with 1 Axes>"
            ]
          },
          "metadata": {
            "tags": []
          }
        }
      ]
    }
  ]
}