{
  "nbformat": 4,
  "nbformat_minor": 0,
  "metadata": {
    "colab": {
      "name": "bsd68.ipynb",
      "provenance": [],
      "collapsed_sections": []
    },
    "kernelspec": {
      "name": "python3",
      "display_name": "Python 3"
    }
  },
  "cells": [
    {
      "cell_type": "code",
      "metadata": {
        "id": "2ZIkfbGO6ePA",
        "colab_type": "code",
        "colab": {}
      },
      "source": [
        "# download the preprocesing script\n",
        "!curl -s -O https://raw.githubusercontent.com/nyikovicsmate/thesis/dev/utils/preprocess.py\n",
        "# download requirements.txt\n",
        "!curl -s -O https://raw.githubusercontent.com/nyikovicsmate/thesis/dev/utils/requirements.txt"
      ],
      "execution_count": 0,
      "outputs": []
    },
    {
      "cell_type": "code",
      "metadata": {
        "id": "LSPYWKqtNl9i",
        "colab_type": "code",
        "colab": {}
      },
      "source": [
        "!pip3 install -q -r requirements.txt"
      ],
      "execution_count": 0,
      "outputs": []
    },
    {
      "cell_type": "code",
      "metadata": {
        "id": "8_rsJgbC5-Tu",
        "colab_type": "code",
        "colab": {}
      },
      "source": [
        "# download the dataset (180 MB)\n",
        "!git clone https://github.com/clausmichele/CBSD68-dataset.git"
      ],
      "execution_count": 0,
      "outputs": []
    },
    {
      "cell_type": "code",
      "metadata": {
        "id": "mu6WjP6X5nHS",
        "colab_type": "code",
        "colab": {}
      },
      "source": [
        "# move the images to a separate folder\n",
        "!mv ./CBSD68-dataset/CBSD68/original_png/ ./images "
      ],
      "execution_count": 0,
      "outputs": []
    },
    {
      "cell_type": "code",
      "metadata": {
        "id": "SRsGrva66YYC",
        "colab_type": "code",
        "colab": {}
      },
      "source": [
        "# remove unnecessary things\n",
        "!rm -rf ./CBSD68-dataset/"
      ],
      "execution_count": 0,
      "outputs": []
    },
    {
      "cell_type": "code",
      "metadata": {
        "id": "KAYEfulh6h9i",
        "colab_type": "code",
        "colab": {}
      },
      "source": [
        "!python3 preprocess.py -h"
      ],
      "execution_count": 0,
      "outputs": []
    },
    {
      "cell_type": "code",
      "metadata": {
        "id": "t54jnYMN6igr",
        "colab_type": "code",
        "colab": {}
      },
      "source": [
        "# preprocess the dataset\n",
        "!python3 preprocess.py -f \"hdf\" -m \"scale\" -g -s 35 35 ./bsd68_35_35 ./images\n",
        "!python3 preprocess.py -f \"hdf\" -m \"scale\" -a 255 -g -s 70 70 ./bsd68_70_70 ./images\n",
        "!python3 preprocess.py -f \"hdf\" -m \"scale\" -g -s 140 140 ./bsd68_140_140 ./images\n",
        "!python3 preprocess.py -f \"hdf\" -m \"scale\" -g -s 280 280 ./bsd68_280_280 ./images"
      ],
      "execution_count": 0,
      "outputs": []
    },
    {
      "cell_type": "code",
      "metadata": {
        "id": "Zwg58RqkUNR5",
        "colab_type": "code",
        "colab": {}
      },
      "source": [
        "# zip the results for easier download\n",
        "!zip -r -q  bsd68.zip ./bsd68_*.h5 "
      ],
      "execution_count": 0,
      "outputs": []
    }
  ]
}