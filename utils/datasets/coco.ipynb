{
  "nbformat": 4,
  "nbformat_minor": 0,
  "metadata": {
    "colab": {
      "name": "coco.ipynb",
      "provenance": [],
      "collapsed_sections": []
    },
    "kernelspec": {
      "name": "python3",
      "display_name": "Python 3"
    }
  },
  "cells": [
    {
      "cell_type": "code",
      "metadata": {
        "id": "JBlfjvDaOhe8",
        "colab_type": "code",
        "colab": {}
      },
      "source": [
        "# download the preprocesing script\n",
        "!curl -s -O https://raw.githubusercontent.com/nyikovicsmate/thesis/dev/utils/preprocess.py\n",
        "# download requirements.txt\n",
        "!curl -s -O https://raw.githubusercontent.com/nyikovicsmate/thesis/dev/utils/requirements.txt"
      ],
      "execution_count": 0,
      "outputs": []
    },
    {
      "cell_type": "code",
      "metadata": {
        "id": "r_DHD4iBOhbx",
        "colab_type": "code",
        "colab": {}
      },
      "source": [
        "!pip3 install -q -r requirements.txt"
      ],
      "execution_count": 0,
      "outputs": []
    },
    {
      "cell_type": "code",
      "metadata": {
        "id": "xwoA1OC0OIKk",
        "colab_type": "code",
        "colab": {}
      },
      "source": [
        "# download the dataset (19 GB)\n",
        "!curl -L -O http://images.cocodataset.org/zips/unlabeled2017.zip\n",
        "# extract\n",
        "!unzip -q unlabeled2017.zip"
      ],
      "execution_count": 0,
      "outputs": []
    },
    {
      "cell_type": "code",
      "metadata": {
        "id": "4o2XhtYLOhlX",
        "colab_type": "code",
        "colab": {}
      },
      "source": [
        "# move the images to a separate folder\n",
        "!mv ./unlabeled2017 ./images"
      ],
      "execution_count": 0,
      "outputs": []
    },
    {
      "cell_type": "code",
      "metadata": {
        "id": "7LK_HCloOhhm",
        "colab_type": "code",
        "colab": {}
      },
      "source": [
        "# remove unnecessary things\n",
        "!rm unlabeled2017.zip\n",
        "!rm -rf unlabeled2017"
      ],
      "execution_count": 0,
      "outputs": []
    },
    {
      "cell_type": "code",
      "metadata": {
        "id": "qzTZ4iCJOhYg",
        "colab_type": "code",
        "colab": {}
      },
      "source": [
        "!python3 preprocess.py -h"
      ],
      "execution_count": 0,
      "outputs": []
    },
    {
      "cell_type": "code",
      "metadata": {
        "id": "IDlZ3cHrOhVQ",
        "colab_type": "code",
        "colab": {}
      },
      "source": [
        "# preprocess the dataset\n",
        "!python3 preprocess.py -f \"hdf\" -m \"scale\" -g -s 35 35 ./coco_35_35 ./images\n",
        "!python3 preprocess.py -f \"hdf\" -m \"scale\" -a 255 -g -s 70 70 ./coco_70_70 ./images\n",
        "!python3 preprocess.py -f \"hdf\" -m \"scale\" -g -s 140 140 ./coco_140_140 ./images\n",
        "!python3 preprocess.py -f \"hdf\" -m \"scale\" -g -s 280 280 ./coco_280_280 ./images"
      ],
      "execution_count": 0,
      "outputs": []
    },
    {
      "cell_type": "code",
      "metadata": {
        "id": "-5AgtSNwUwb1",
        "colab_type": "code",
        "colab": {}
      },
      "source": [
        "# zip the results for easier download\n",
        "!zip -r -q  coco.zip ./coco_*.h5 "
      ],
      "execution_count": 0,
      "outputs": []
    }
  ]
}