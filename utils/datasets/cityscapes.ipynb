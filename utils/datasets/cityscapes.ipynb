{
  "nbformat": 4,
  "nbformat_minor": 0,
  "metadata": {
    "colab": {
      "name": "cityscapes.ipynb",
      "provenance": [],
      "collapsed_sections": []
    },
    "kernelspec": {
      "name": "python3",
      "display_name": "Python 3"
    }
  },
  "cells": [
    {
      "cell_type": "code",
      "metadata": {
        "id": "7YKKZQChRdqu",
        "colab_type": "code",
        "colab": {}
      },
      "source": [
        "# ALTERNATIVE 1\n",
        "# download the dataset using session cookie (44 GB)\n",
        "phpsessid = \"YOUR ID\"\n",
        "!curl -L -o leftImg8bit_trainextra.zip --cookie \"PHPSESSID=\"$phpsessid  https://www.cityscapes-dataset.com/file-handling/?packageID=4"
      ],
      "execution_count": 0,
      "outputs": []
    },
    {
      "cell_type": "code",
      "metadata": {
        "id": "XKaXedxZUX6w",
        "colab_type": "code",
        "colab": {}
      },
      "source": [
        "# ALTERNATIVE 2\n",
        "# download the dataset using credentials (44 GB)\n",
        "# get the session cookie\n",
        "### uncomment the following lines ###\n",
        "\n",
        "# username = \"YOUR SUERNAME\"\n",
        "# password = \"YOUR PASSWORD\"\n",
        "\n",
        "# !curl -H \"Content-Type: application/x-www-form-urlencoded\" --data \"username=\"$username\"&password=\"$password\"&submit=Login\" --cookie-jar ./cookie https://www.cityscapes-dataset.com/login/\n",
        "# !curl --cookie ./cookie -L -o leftImg8bit_trainextra.zip https://www.cityscapes-dataset.com/file-handling/?packageID=4\n",
        "# !rm ./cookie"
      ],
      "execution_count": 0,
      "outputs": []
    },
    {
      "cell_type": "code",
      "metadata": {
        "id": "fk3IllbHVzaa",
        "colab_type": "code",
        "colab": {}
      },
      "source": [
        "# extract\n",
        "!unzip -q leftImg8bit_trainextra.zip"
      ],
      "execution_count": 0,
      "outputs": []
    },
    {
      "cell_type": "code",
      "metadata": {
        "id": "ERAGNP8EcRKS",
        "colab_type": "code",
        "colab": {}
      },
      "source": [
        "# move things around\n",
        "!mv ./leftImg8bit/train_extra/ ./images "
      ],
      "execution_count": 0,
      "outputs": []
    },
    {
      "cell_type": "code",
      "metadata": {
        "id": "cZT4oOoLiRpc",
        "colab_type": "code",
        "colab": {}
      },
      "source": [
        "# cleanup\n",
        "!rm leftImg8bit_trainextra.zip\n",
        "!rm -rf ./leftImg8bit\n",
        "!rm -rf sample_data"
      ],
      "execution_count": 0,
      "outputs": []
    },
    {
      "cell_type": "code",
      "metadata": {
        "id": "PefVdk6diRm4",
        "colab_type": "code",
        "colab": {}
      },
      "source": [
        "# download the preprocesing script\n",
        "!curl -s -O https://raw.githubusercontent.com/nyikovicsmate/thesis/dev/utils/preprocess.py\n",
        "# download requirements.txt\n",
        "!curl -s -O https://raw.githubusercontent.com/nyikovicsmate/thesis/dev/utils/requirements.txt"
      ],
      "execution_count": 0,
      "outputs": []
    },
    {
      "cell_type": "code",
      "metadata": {
        "id": "hu3bqkIGiRjr",
        "colab_type": "code",
        "colab": {}
      },
      "source": [
        "!pip3 install -r requirements.txt"
      ],
      "execution_count": 0,
      "outputs": []
    },
    {
      "cell_type": "code",
      "metadata": {
        "id": "VchEi5MeiRb2",
        "colab_type": "code",
        "colab": {}
      },
      "source": [
        "!python3 preprocess.py -h"
      ],
      "execution_count": 0,
      "outputs": []
    },
    {
      "cell_type": "code",
      "metadata": {
        "id": "A2SqTbcuiRQ1",
        "colab_type": "code",
        "colab": {}
      },
      "source": [
        "# preprocess the dataset\n",
        "!python3 preprocess.py -n \"bdd100k\" -f \"png\" -m \"scale\" -a 255 -g -s 70 70 "
      ],
      "execution_count": 0,
      "outputs": []
    }
  ]
}