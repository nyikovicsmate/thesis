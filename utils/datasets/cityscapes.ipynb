{
  "nbformat": 4,
  "nbformat_minor": 0,
  "metadata": {
    "colab": {
      "name": "cityscapes.ipynb",
      "provenance": [],
      "collapsed_sections": []
    },
    "kernelspec": {
      "name": "python3",
      "display_name": "Python 3"
    }
  },
  "cells": [
    {
      "cell_type": "code",
      "metadata": {
        "id": "PefVdk6diRm4",
        "colab_type": "code",
        "colab": {}
      },
      "source": [
        "# download the preprocesing script\n",
        "!curl -s -O https://raw.githubusercontent.com/nyikovicsmate/thesis/dev/utils/preprocess.py\n",
        "# download requirements.txt\n",
        "!curl -s -O https://raw.githubusercontent.com/nyikovicsmate/thesis/dev/utils/requirements.txt"
      ],
      "execution_count": 0,
      "outputs": []
    },
    {
      "cell_type": "code",
      "metadata": {
        "id": "hu3bqkIGiRjr",
        "colab_type": "code",
        "colab": {}
      },
      "source": [
        "!pip3 install -q -r requirements.txt"
      ],
      "execution_count": 0,
      "outputs": []
    },
    {
      "cell_type": "code",
      "metadata": {
        "id": "7YKKZQChRdqu",
        "colab_type": "code",
        "colab": {}
      },
      "source": [
        "# ALTERNATIVE 1\n",
        "# download the dataset using session cookie (44 GB)\n",
        "phpsessid = \"YOUR ID\"\n",
        "!curl -L -o leftImg8bit_trainextra.zip --cookie \"PHPSESSID=\"$phpsessid  https://www.cityscapes-dataset.com/file-handling/?packageID=4"
      ],
      "execution_count": 0,
      "outputs": []
    },
    {
      "cell_type": "code",
      "metadata": {
        "id": "XKaXedxZUX6w",
        "colab_type": "code",
        "colab": {}
      },
      "source": [
        "# ALTERNATIVE 2\n",
        "# download the dataset using credentials (44 GB)\n",
        "# get the session cookie\n",
        "### uncomment the following lines ###\n",
        "\n",
        "# username = \"YOUR SUERNAME\"\n",
        "# password = \"YOUR PASSWORD\"\n",
        "\n",
        "# !curl -H \"Content-Type: application/x-www-form-urlencoded\" --data \"username=\"$username\"&password=\"$password\"&submit=Login\" --cookie-jar ./cookie https://www.cityscapes-dataset.com/login/\n",
        "# !curl --cookie ./cookie -L -o leftImg8bit_trainextra.zip https://www.cityscapes-dataset.com/file-handling/?packageID=4\n",
        "# !rm ./cookie"
      ],
      "execution_count": 0,
      "outputs": []
    },
    {
      "cell_type": "code",
      "metadata": {
        "id": "kZ2wZk2wn6Zv",
        "colab_type": "code",
        "colab": {}
      },
      "source": [
        "# collect the image files in zip\n",
        "!unzip -l leftImg8bit_trainextra.zip *.png | awk 'NR >= 4 { print $4 }' > files.txt"
      ],
      "execution_count": 0,
      "outputs": []
    },
    {
      "cell_type": "code",
      "metadata": {
        "id": "GDao9zaCyE6p",
        "colab_type": "code",
        "colab": {}
      },
      "source": [
        "# there are 20000 images in the zip\n",
        "!awk 'END { print NR }' files.txt"
      ],
      "execution_count": 0,
      "outputs": []
    },
    {
      "cell_type": "code",
      "metadata": {
        "id": "__wvC0kIyoOm",
        "colab_type": "code",
        "colab": {}
      },
      "source": [
        "# separate the files for processing\n",
        "!awk 'NR == 1, NR == 5000 { print \"\\\"\"$0\"\\\"\" }' files.txt > batch_1.txt\n",
        "!awk 'NR == 5001, NR == 10000 { print \"\\\"\"$0\"\\\"\" }' files.txt > batch_2.txt\n",
        "!awk 'NR == 10001, NR == 15000 { print \"\\\"\"$0\"\\\"\" }' files.txt > batch_3.txt\n",
        "!awk 'NR >= 15001 { print \"\\\"\"$0\"\\\"\" }' files.txt > batch_4.txt"
      ],
      "execution_count": 0,
      "outputs": []
    },
    {
      "cell_type": "code",
      "metadata": {
        "id": "fk3IllbHVzaa",
        "colab_type": "code",
        "colab": {}
      },
      "source": [
        "# extract the 1st batch\n",
        "!xargs -n 1 unzip -q leftImg8bit_trainextra.zip < batch_1.txt "
      ],
      "execution_count": 0,
      "outputs": []
    },
    {
      "cell_type": "code",
      "metadata": {
        "id": "ERAGNP8EcRKS",
        "colab_type": "code",
        "colab": {}
      },
      "source": [
        "!python3 preprocess.py -h"
      ],
      "execution_count": 0,
      "outputs": []
    },
    {
      "cell_type": "code",
      "metadata": {
        "id": "HBGpn0Fo1Qqn",
        "colab_type": "code",
        "colab": {}
      },
      "source": [
        "# preprocess the 1st batch dataset\n",
        "!python3 preprocess.py -f \"hdf\" -m \"scale\" -g -s 35 35 ./cityscapes_35_35_1 ./leftImg8bit\n",
        "!python3 preprocess.py -f \"hdf\" -m \"scale\" -a 255 -g -s 70 70 ./cityscapes_70_70_1 ./leftImg8bit\n",
        "!python3 preprocess.py -f \"hdf\" -m \"scale\" -g -s 140 140 ./cityscapes_140_140_1 ./leftImg8bit\n",
        "!python3 preprocess.py -f \"hdf\" -m \"scale\" -g -s 280 280 ./cityscapes_280_280_1 ./leftImg8bit"
      ],
      "execution_count": 0,
      "outputs": []
    },
    {
      "cell_type": "code",
      "metadata": {
        "id": "cZT4oOoLiRpc",
        "colab_type": "code",
        "colab": {}
      },
      "source": [
        "# remove unnecessary things\n",
        "!rm -rf ./leftImg8bit"
      ],
      "execution_count": 0,
      "outputs": []
    },
    {
      "cell_type": "code",
      "metadata": {
        "id": "fbMDPoXR1otf",
        "colab_type": "code",
        "colab": {}
      },
      "source": [
        "# extract the 2nd batch\n",
        "!xargs -n 1 unzip -q leftImg8bit_trainextra.zip < batch_2.txt "
      ],
      "execution_count": 0,
      "outputs": []
    },
    {
      "cell_type": "code",
      "metadata": {
        "id": "8a8B_Aqy1r-V",
        "colab_type": "code",
        "colab": {}
      },
      "source": [
        "# preprocess the 2nd batch dataset\n",
        "!python3 preprocess.py -f \"hdf\" -m \"scale\" -g -s 35 35 ./cityscapes_35_35_2 ./leftImg8bit\n",
        "!python3 preprocess.py -f \"hdf\" -m \"scale\" -a 255 -g -s 70 70 ./cityscapes_70_70_2 ./leftImg8bit\n",
        "!python3 preprocess.py -f \"hdf\" -m \"scale\" -g -s 140 140 ./cityscapes_140_140_2 ./leftImg8bit\n",
        "!python3 preprocess.py -f \"hdf\" -m \"scale\" -g -s 280 280 ./cityscapes_280_280_2 ./leftImg8bit"
      ],
      "execution_count": 0,
      "outputs": []
    },
    {
      "cell_type": "code",
      "metadata": {
        "id": "w7LtKkos13Z7",
        "colab_type": "code",
        "colab": {}
      },
      "source": [
        "# remove unnecessary things\n",
        "!rm -rf ./leftImg8bit"
      ],
      "execution_count": 0,
      "outputs": []
    },
    {
      "cell_type": "code",
      "metadata": {
        "id": "e_G-1KOC13Wu",
        "colab_type": "code",
        "colab": {}
      },
      "source": [
        "# extract the 3rd batch\n",
        "!xargs -n 1 unzip -q leftImg8bit_trainextra.zip < batch_3.txt "
      ],
      "execution_count": 0,
      "outputs": []
    },
    {
      "cell_type": "code",
      "metadata": {
        "id": "wSe1fZWq16hC",
        "colab_type": "code",
        "colab": {}
      },
      "source": [
        "# preprocess the 3rd batch dataset\n",
        "!python3 preprocess.py -f \"hdf\" -m \"scale\" -g -s 35 35 ./cityscapes_35_35_3 ./leftImg8bit\n",
        "!python3 preprocess.py -f \"hdf\" -m \"scale\" -a 255 -g -s 70 70 ./cityscapes_70_70_3 ./leftImg8bit\n",
        "!python3 preprocess.py -f \"hdf\" -m \"scale\" -g -s 140 140 ./cityscapes_140_140_3 ./leftImg8bit\n",
        "!python3 preprocess.py -f \"hdf\" -m \"scale\" -g -s 280 280 ./cityscapes_280_280_3 ./leftImg8bit"
      ],
      "execution_count": 0,
      "outputs": []
    },
    {
      "cell_type": "code",
      "metadata": {
        "id": "xkHUlz9116eD",
        "colab_type": "code",
        "colab": {}
      },
      "source": [
        "# remove unnecessary things\n",
        "!rm -rf ./leftImg8bit"
      ],
      "execution_count": 0,
      "outputs": []
    },
    {
      "cell_type": "code",
      "metadata": {
        "id": "OBdhrdXA16YU",
        "colab_type": "code",
        "colab": {}
      },
      "source": [
        "# extract the 4th batch\n",
        "!xargs -n 1 unzip -q leftImg8bit_trainextra.zip < batch_4.txt "
      ],
      "execution_count": 0,
      "outputs": []
    },
    {
      "cell_type": "code",
      "metadata": {
        "id": "d74XINjx16TF",
        "colab_type": "code",
        "colab": {}
      },
      "source": [
        "# preprocess the 4th batch dataset\n",
        "!python3 preprocess.py -f \"hdf\" -m \"scale\" -g -s 35 35 ./cityscapes_35_35_4 ./leftImg8bit\n",
        "!python3 preprocess.py -f \"hdf\" -m \"scale\" -a 255 -g -s 70 70 ./cityscapes_70_70_4 ./leftImg8bit\n",
        "!python3 preprocess.py -f \"hdf\" -m \"scale\" -g -s 140 140 ./cityscapes_140_140_4 ./leftImg8bit\n",
        "!python3 preprocess.py -f \"hdf\" -m \"scale\" -g -s 280 280 ./cityscapes_280_280_4 ./leftImg8bit"
      ],
      "execution_count": 0,
      "outputs": []
    },
    {
      "cell_type": "code",
      "metadata": {
        "id": "eGqNXwcD13Rq",
        "colab_type": "code",
        "colab": {}
      },
      "source": [
        "# remove unnecessary things\n",
        "!rm -rf ./leftImg8bit\n",
        "!rm leftImg8bit_trainextra.zip"
      ],
      "execution_count": 0,
      "outputs": []
    },
    {
      "cell_type": "code",
      "metadata": {
        "id": "uBww3E3B23an",
        "colab_type": "code",
        "colab": {}
      },
      "source": [
        "# download the hdf dataset aggregator script\n",
        "!curl -s -O https://raw.githubusercontent.com/nyikovicsmate/thesis/dev/utils/hdf_aggregator.py"
      ],
      "execution_count": 0,
      "outputs": []
    },
    {
      "cell_type": "code",
      "metadata": {
        "id": "5OM8YOwu24uS",
        "colab_type": "code",
        "colab": {}
      },
      "source": [
        "!python3 hdf_aggregator.py -h"
      ],
      "execution_count": 0,
      "outputs": []
    },
    {
      "cell_type": "code",
      "metadata": {
        "id": "LGFKerBA26_j",
        "colab_type": "code",
        "colab": {}
      },
      "source": [
        "# aggregate the city, residential and road datasets\n",
        "!python3 hdf_aggregator.py ./cityscapes_35_35 ./cityscapes_35_35_*\n",
        "!python3 hdf_aggregator.py ./cityscapes_70_70 ./cityscapes_70_70_*\n",
        "!python3 hdf_aggregator.py ./cityscapes_140_140 ./cityscapes_140_140_*\n",
        "!python3 hdf_aggregator.py ./cityscapes_280_280 ./cityscapes_280_280_*"
      ],
      "execution_count": 0,
      "outputs": []
    },
    {
      "cell_type": "code",
      "metadata": {
        "id": "YKAephQz29KG",
        "colab_type": "code",
        "colab": {}
      },
      "source": [
        "# zip the results for easier download\n",
        "!zip -r -q  cityscapes.zip ./cityscapes_35_35.h5 ./cityscapes_70_70.h5 ./cityscapes_140_140.h5 ./cityscapes_280_280.h5 "
      ],
      "execution_count": 0,
      "outputs": []
    }
  ]
}