{
  "nbformat": 4,
  "nbformat_minor": 0,
  "metadata": {
    "colab": {
      "name": "bdd100k.ipynb",
      "provenance": [],
      "collapsed_sections": []
    },
    "kernelspec": {
      "name": "python3",
      "display_name": "Python 3"
    }
  },
  "cells": [
    {
      "cell_type": "code",
      "metadata": {
        "id": "MklF7awguG22",
        "colab_type": "code",
        "colab": {}
      },
      "source": [
        "# download the preprocesing script\n",
        "!curl -s -O https://raw.githubusercontent.com/nyikovicsmate/thesis/dev/utils/preprocess.py\n",
        "# download requirements.txt\n",
        "!curl -s -O https://raw.githubusercontent.com/nyikovicsmate/thesis/dev/utils/requirements.txt"
      ],
      "execution_count": 0,
      "outputs": []
    },
    {
      "cell_type": "code",
      "metadata": {
        "id": "q4JnR4z2NvfD",
        "colab_type": "code",
        "colab": {}
      },
      "source": [
        "!pip3 install -q -r requirements.txt"
      ],
      "execution_count": 0,
      "outputs": []
    },
    {
      "cell_type": "code",
      "metadata": {
        "id": "Qcf4aVHM1PdD",
        "colab_type": "code",
        "colab": {}
      },
      "source": [
        "# get the dynamic download link\n",
        "!curl -s \"https://2x5kv9t5uf.execute-api.us-west-2.amazonaws.com/production?func=create_download_challenge_link&filename=bdd100k\"%\"2Fbdd100k_images.zip\" -H \"Accept: */*\" -o uri.txt\n",
        "# download the dataset (approx 6.5G)\n",
        "!xargs -n 1 curl -o \"bdd100k_images.zip\" < uri.txt\n",
        "# extract\n",
        "!unzip -q bdd100k_images.zip -d bdd100k_images\n",
        "\n",
        "# if there is a problem with unzipping it's most likely caused by a failed download\n",
        "# this can happen when colab is a little too slow to start the download and the dynamic download link expires\n",
        "# if this happens just try running the cell again"
      ],
      "execution_count": 0,
      "outputs": []
    },
    {
      "cell_type": "code",
      "metadata": {
        "id": "SQjVUrmNtdbc",
        "colab_type": "code",
        "colab": {}
      },
      "source": [
        "# move the images to a separate folder\n",
        "!mv ./bdd100k_images/bdd100k/images/100k ./images "
      ],
      "execution_count": 0,
      "outputs": []
    },
    {
      "cell_type": "code",
      "metadata": {
        "id": "vMaRRyVOtcj5",
        "colab_type": "code",
        "colab": {}
      },
      "source": [
        "# remove unnecessary things\n",
        "!rm uri.txt\n",
        "!rm bdd100k_images.zip\n",
        "!rm -rf ./bdd100k_images"
      ],
      "execution_count": 0,
      "outputs": []
    },
    {
      "cell_type": "code",
      "metadata": {
        "id": "Yto0DxfLxwC8",
        "colab_type": "code",
        "colab": {}
      },
      "source": [
        "!python3 preprocess.py -h"
      ],
      "execution_count": 0,
      "outputs": []
    },
    {
      "cell_type": "code",
      "metadata": {
        "id": "m-bvOVMAvItp",
        "colab_type": "code",
        "colab": {}
      },
      "source": [
        "# preprocess the dataset\n",
        "!python3 preprocess.py -f \"hdf\" -m \"scale\" -g -s 35 35 ./bdd100k_35_35 ./images\n",
        "!python3 preprocess.py -f \"hdf\" -m \"scale\" -a 255 -g -s 70 70 ./bdd100k_70_70 ./images\n",
        "!python3 preprocess.py -f \"hdf\" -m \"scale\" -g -s 140 140 ./bdd100k_140_140 ./images\n",
        "!python3 preprocess.py -f \"hdf\" -m \"scale\" -g -s 280 280 ./bdd100k_280_280 ./images"
      ],
      "execution_count": 0,
      "outputs": []
    },
    {
      "cell_type": "code",
      "metadata": {
        "id": "kpIIRKS5TqqO",
        "colab_type": "code",
        "colab": {}
      },
      "source": [
        "# zip the results for easier download\n",
        "!zip -r -q  bdd100k.zip ./bdd100k_*.h5 "
      ],
      "execution_count": 0,
      "outputs": []
    }
  ]
}