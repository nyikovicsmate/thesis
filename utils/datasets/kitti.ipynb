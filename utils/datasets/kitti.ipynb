{
  "nbformat": 4,
  "nbformat_minor": 0,
  "metadata": {
    "colab": {
      "name": "kitti.ipynb",
      "provenance": [],
      "collapsed_sections": []
    },
    "kernelspec": {
      "name": "python3",
      "display_name": "Python 3"
    }
  },
  "cells": [
    {
      "cell_type": "code",
      "metadata": {
        "id": "Nnf-YvkvxNqS",
        "colab_type": "code",
        "colab": {}
      },
      "source": [
        "# download the preprocesing script\n",
        "!curl -s -O https://raw.githubusercontent.com/nyikovicsmate/thesis/dev/utils/preprocess.py\n",
        "# download requirements.txt\n",
        "!curl -s -O https://raw.githubusercontent.com/nyikovicsmate/thesis/dev/utils/requirements.txt"
      ],
      "execution_count": 0,
      "outputs": []
    },
    {
      "cell_type": "code",
      "metadata": {
        "id": "IqfCNZx4xNnj",
        "colab_type": "code",
        "colab": {}
      },
      "source": [
        "!pip3 install -q -r requirements.txt"
      ],
      "execution_count": 0,
      "outputs": []
    },
    {
      "cell_type": "code",
      "metadata": {
        "id": "FXURHwpCl1v1",
        "colab_type": "code",
        "colab": {}
      },
      "source": [
        "# get the urls from the CITY section\n",
        "!curl -s http://www.cvlibs.net/datasets/kitti/raw_data.php?type=city | grep -o \"https.\\{1,140\\}sync\\.zip\" > city.txt"
      ],
      "execution_count": 0,
      "outputs": []
    },
    {
      "cell_type": "code",
      "metadata": {
        "id": "34pG_gPzxmT3",
        "colab_type": "code",
        "colab": {}
      },
      "source": [
        "# download the CITY files\n",
        "!xargs -n 1 curl -O < city.txt"
      ],
      "execution_count": 0,
      "outputs": []
    },
    {
      "cell_type": "code",
      "metadata": {
        "id": "7RtUQpu2xmRi",
        "colab_type": "code",
        "colab": {}
      },
      "source": [
        "# collect all the zips\n",
        "!ls . | grep \"\\.zip\" > zips.txt\n",
        "# collect the image_02 files in zip and extract them\n",
        "!for X in $(cat zips.txt); do unzip -l $X | awk 'NR >= 1 { print $4 }' | grep image_02 | grep .png | xargs -n 1 unzip -q $X; done\n",
        "# delete the zip files\n",
        "!xargs -n 1 rm < zips.txt\n",
        "# remove the file list\n",
        "!rm zips.txt"
      ],
      "execution_count": 0,
      "outputs": []
    },
    {
      "cell_type": "code",
      "metadata": {
        "id": "FgosXmSljZeP",
        "colab_type": "code",
        "colab": {}
      },
      "source": [
        "!python3 preprocess.py -h"
      ],
      "execution_count": 0,
      "outputs": []
    },
    {
      "cell_type": "code",
      "metadata": {
        "id": "Q1d3afJzjd1F",
        "colab_type": "code",
        "colab": {}
      },
      "source": [
        "# preprocess the CITY dataset\n",
        "!python3 preprocess.py -f \"hdf\" -m \"scale\" -g -s 35 35 ./kitti_35_35_city ./*/*_drive_*_sync\n",
        "!python3 preprocess.py -f \"hdf\" -m \"scale\" -a 255 -g -s 70 70 ./kitti_70_70_city ./*/*_drive_*_sync\n",
        "!python3 preprocess.py -f \"hdf\" -m \"scale\" -g -s 140 140 ./kitti_140_140_city ./*/*_drive_*_sync\n",
        "!python3 preprocess.py -f \"hdf\" -m \"scale\" -g -s 280 280 ./kitti_280_280_city ./*/*_drive_*_sync"
      ],
      "execution_count": 0,
      "outputs": []
    },
    {
      "cell_type": "code",
      "metadata": {
        "id": "QmdxfcL5jzBU",
        "colab_type": "code",
        "colab": {}
      },
      "source": [
        "# delete th contents of the image_2 directories\n",
        "!rm -rf ./*/*/image_02/"
      ],
      "execution_count": 0,
      "outputs": []
    },
    {
      "cell_type": "code",
      "metadata": {
        "id": "mxNE2PH1jC9B",
        "colab_type": "code",
        "colab": {}
      },
      "source": [
        "# get the urls from the RESIDENTIAL section\n",
        "!curl -s http://www.cvlibs.net/datasets/kitti/raw_data.php?type=residential | grep -o \"https.\\{1,120\\}sync\\.zip\" > residential.txt"
      ],
      "execution_count": 0,
      "outputs": []
    },
    {
      "cell_type": "code",
      "metadata": {
        "id": "sgRX4sn5GjAr",
        "colab_type": "code",
        "colab": {}
      },
      "source": [
        "# separate the urls\n",
        "!awk 'NR < count-3 { print $0 }' count=$( wc -l < residential.txt ) residential.txt > residential_1.txt\n",
        "!awk 'NR >= count-3 { print $0 }' count=$( wc -l < residential.txt ) residential.txt > residential_2.txt"
      ],
      "execution_count": 0,
      "outputs": []
    },
    {
      "cell_type": "code",
      "metadata": {
        "id": "YUHh-5M75uWm",
        "colab_type": "code",
        "colab": {}
      },
      "source": [
        "# download the 1st batch of RESIDENTIAL files\n",
        "!xargs -n 1 curl -O < residential_1.txt"
      ],
      "execution_count": 0,
      "outputs": []
    },
    {
      "cell_type": "code",
      "metadata": {
        "id": "R-6nDHH65sZR",
        "colab_type": "code",
        "colab": {}
      },
      "source": [
        "# collect all the zips\n",
        "!ls . | grep \"\\.zip\" > zips.txt\n",
        "# collect the image_02 files in zip and extract them\n",
        "!for X in $(cat zips.txt); do unzip -l $X | awk 'NR >= 1 { print $4 }' | grep image_02 | grep \"\\.png\" | xargs -n 1 unzip -q $X; done\n",
        "# delete the zip files\n",
        "!xargs -n 1 rm < zips.txt\n",
        "# remove the file list\n",
        "!rm zips.txt"
      ],
      "execution_count": 0,
      "outputs": []
    },
    {
      "cell_type": "code",
      "metadata": {
        "id": "8Sohlq0MkIZR",
        "colab_type": "code",
        "colab": {}
      },
      "source": [
        "# preprocess the 1st batch of RESIDENTIAL dataset\n",
        "!python3 preprocess.py -f \"hdf\" -m \"scale\" -g -s 35 35 ./kitti_35_35_residential_1 ./*/*_drive_*_sync\n",
        "!python3 preprocess.py -f \"hdf\" -m \"scale\" -a 255 -g -s 70 70 ./kitti_70_70_residential_1 ./*/*_drive_*_sync\n",
        "!python3 preprocess.py -f \"hdf\" -m \"scale\" -g -s 140 140 ./kitti_140_140_residential_1 ./*/*_drive_*_sync\n",
        "!python3 preprocess.py -f \"hdf\" -m \"scale\" -g -s 280 280 ./kitti_280_280_residential_1 ./*/*_drive_*_sync"
      ],
      "execution_count": 0,
      "outputs": []
    },
    {
      "cell_type": "code",
      "metadata": {
        "id": "7R6PCxkKkIRH",
        "colab_type": "code",
        "colab": {}
      },
      "source": [
        "# delete th contents of the image_2 directories\n",
        "!rm -rf ./*/*/image_02/"
      ],
      "execution_count": 0,
      "outputs": []
    },
    {
      "cell_type": "code",
      "metadata": {
        "id": "O8aoHRSnIZgH",
        "colab_type": "code",
        "colab": {}
      },
      "source": [
        "# download the 2nd batch of RESIDENTIAL files\n",
        "!xargs -n 1 curl -O < residential_2.txt"
      ],
      "execution_count": 0,
      "outputs": []
    },
    {
      "cell_type": "code",
      "metadata": {
        "id": "zioRdlU9IZcl",
        "colab_type": "code",
        "colab": {}
      },
      "source": [
        "# collect all the zips\n",
        "!ls . | grep \"\\.zip\" > zips.txt\n",
        "# collect the image_02 files in zip and extract them\n",
        "!for X in $(cat zips.txt); do unzip -l $X | awk 'NR >= 1 { print $4 }' | grep image_02 | grep \"\\.png\" | xargs -n 1 unzip -q $X; done\n",
        "# delete the zip files\n",
        "!xargs -n 1 rm < zips.txt\n",
        "# remove the file list\n",
        "!rm zips.txt"
      ],
      "execution_count": 0,
      "outputs": []
    },
    {
      "cell_type": "code",
      "metadata": {
        "id": "KPraAfRvIeWy",
        "colab_type": "code",
        "colab": {}
      },
      "source": [
        "# preprocess the 2nd batch of RESIDENTIAL dataset\n",
        "!python3 preprocess.py -f \"hdf\" -m \"scale\" -g -s 35 35 ./kitti_35_35_residential_2 ./*/*_drive_*_sync\n",
        "!python3 preprocess.py -f \"hdf\" -m \"scale\" -a 255 -g -s 70 70 ./kitti_70_70_residential_2 ./*/*_drive_*_sync\n",
        "!python3 preprocess.py -f \"hdf\" -m \"scale\" -g -s 140 140 ./kitti_140_140_residential_2 ./*/*_drive_*_sync\n",
        "!python3 preprocess.py -f \"hdf\" -m \"scale\" -g -s 280 280 ./kitti_280_280_residential_2 ./*/*_drive_*_sync"
      ],
      "execution_count": 0,
      "outputs": []
    },
    {
      "cell_type": "code",
      "metadata": {
        "id": "aGiT1ABjIeOQ",
        "colab_type": "code",
        "colab": {}
      },
      "source": [
        "# delete th contents of the image_2 directories\n",
        "!rm -rf ./*/*/image_02/"
      ],
      "execution_count": 0,
      "outputs": []
    },
    {
      "cell_type": "code",
      "metadata": {
        "id": "LtYRjqgvxN2j",
        "colab_type": "code",
        "colab": {}
      },
      "source": [
        "# get the urls from the ROAD section\n",
        "!curl -s http://www.cvlibs.net/datasets/kitti/raw_data.php?type=road | grep -o \"https.\\{1,140\\}sync\\.zip\" > road.txt"
      ],
      "execution_count": 0,
      "outputs": []
    },
    {
      "cell_type": "code",
      "metadata": {
        "id": "PwYgU6TrxNyr",
        "colab_type": "code",
        "colab": {}
      },
      "source": [
        "# download the ROAD files\n",
        "!xargs -n 1 curl -O < road.txt"
      ],
      "execution_count": 0,
      "outputs": []
    },
    {
      "cell_type": "code",
      "metadata": {
        "id": "EVDVNtRlxNw4",
        "colab_type": "code",
        "colab": {}
      },
      "source": [
        "# collect all the zips\n",
        "!ls . | grep \"\\.zip\" > zips.txt\n",
        "# collect the image_02 files in zip and extract them\n",
        "!for X in $(cat zips.txt); do unzip -l $X | awk 'NR >= 1 { print $4 }' | grep image_02 | grep \"\\.png\" | xargs -n 1 unzip -q $X; done\n",
        "# delete the zip files\n",
        "!xargs -n 1 rm < zips.txt\n",
        "# remove the file list\n",
        "!rm zips.txt"
      ],
      "execution_count": 0,
      "outputs": []
    },
    {
      "cell_type": "code",
      "metadata": {
        "id": "DfRYbPI9sJDw",
        "colab_type": "code",
        "colab": {}
      },
      "source": [
        "# preprocess the ROAD dataset\n",
        "!python3 preprocess.py -f \"hdf\" -m \"scale\" -g -s 35 35 ./kitti_35_35_road ./*/*_drive_*_sync\n",
        "!python3 preprocess.py -f \"hdf\" -m \"scale\" -a 255 -g -s 70 70 ./kitti_70_70_road ./*/*_drive_*_sync\n",
        "!python3 preprocess.py -f \"hdf\" -m \"scale\" -g -s 140 140 ./kitti_140_140_road ./*/*_drive_*_sync\n",
        "!python3 preprocess.py -f \"hdf\" -m \"scale\" -g -s 280 280 ./kitti_280_280_road ./*/*_drive_*_sync"
      ],
      "execution_count": 0,
      "outputs": []
    },
    {
      "cell_type": "code",
      "metadata": {
        "id": "6RAw62Q4kkKX",
        "colab_type": "code",
        "colab": {}
      },
      "source": [
        "# delete th contents of the image_2 directories\n",
        "!rm -rf ./*/*/image_02/"
      ],
      "execution_count": 0,
      "outputs": []
    },
    {
      "cell_type": "code",
      "metadata": {
        "id": "-UBZT_yBkocZ",
        "colab_type": "code",
        "colab": {}
      },
      "source": [
        "# download the hdf dataset aggregator script\n",
        "!curl -s -O https://raw.githubusercontent.com/nyikovicsmate/thesis/dev/utils/hdf_aggregator.py"
      ],
      "execution_count": 0,
      "outputs": []
    },
    {
      "cell_type": "code",
      "metadata": {
        "id": "0ZRYYWHPlCi_",
        "colab_type": "code",
        "colab": {}
      },
      "source": [
        "!python3 hdf_aggregator.py -h"
      ],
      "execution_count": 0,
      "outputs": []
    },
    {
      "cell_type": "code",
      "metadata": {
        "id": "dpeFNvxflB_X",
        "colab_type": "code",
        "colab": {}
      },
      "source": [
        "# aggregate the city, residential and road datasets\n",
        "!python3 hdf_aggregator.py ./kitti_35_35 ./kitti_35_35_*\n",
        "!python3 hdf_aggregator.py ./kitti_70_70 ./kitti_70_70_*\n",
        "!python3 hdf_aggregator.py ./kitti_140_140 ./kitti_140_140_*\n",
        "!python3 hdf_aggregator.py ./kitti_280_280 ./kitti_280_280_*"
      ],
      "execution_count": 0,
      "outputs": []
    },
    {
      "cell_type": "code",
      "metadata": {
        "id": "67ZO1BfiW5X4",
        "colab_type": "code",
        "colab": {}
      },
      "source": [
        "# zip the results for easier download\n",
        "!zip -r -q  kitti.zip ./kitti_35_35.h5 ./kitti_70_70.h5 ./kitti_140_140.h5 ./kitti_280_280.h5 "
      ],
      "execution_count": 0,
      "outputs": []
    }
  ]
}