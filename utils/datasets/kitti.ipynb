{
  "nbformat": 4,
  "nbformat_minor": 0,
  "metadata": {
    "colab": {
      "name": "kitti.ipynb",
      "provenance": [],
      "collapsed_sections": []
    },
    "kernelspec": {
      "name": "python3",
      "display_name": "Python 3"
    }
  },
  "cells": [
    {
      "cell_type": "code",
      "metadata": {
        "id": "jqqfnh_IxuTt",
        "colab_type": "code",
        "colab": {}
      },
      "source": [
        "# clear the worksapce\n",
        "!rm -rf ./"
      ],
      "execution_count": 0,
      "outputs": []
    },
    {
      "cell_type": "code",
      "metadata": {
        "id": "FXURHwpCl1v1",
        "colab_type": "code",
        "colab": {}
      },
      "source": [
        "# get the urls from the CITY section\n",
        "!curl -s http://www.cvlibs.net/datasets/kitti/raw_data.php?type=city | grep -o \"https.\\{1,140\\}sync\\.zip\" > city.txt"
      ],
      "execution_count": 0,
      "outputs": []
    },
    {
      "cell_type": "code",
      "metadata": {
        "id": "34pG_gPzxmT3",
        "colab_type": "code",
        "colab": {}
      },
      "source": [
        "# download the CITY files\n",
        "!xargs -n 1 curl -O < city.txt"
      ],
      "execution_count": 0,
      "outputs": []
    },
    {
      "cell_type": "code",
      "metadata": {
        "id": "7RtUQpu2xmRi",
        "colab_type": "code",
        "colab": {}
      },
      "source": [
        "# collect all the zips\n",
        "!ls . | grep \"\\.zip\" > files.txt\n",
        "# extract them\n",
        "!xargs -n 1 unzip -q < files.txt\n",
        "# delete the zip files\n",
        "!xargs -n 1 rm < files.txt\n",
        "# remove the file list\n",
        "!rm files.txt"
      ],
      "execution_count": 0,
      "outputs": []
    },
    {
      "cell_type": "code",
      "metadata": {
        "id": "4XhdbM8bxmND",
        "colab_type": "code",
        "colab": {}
      },
      "source": [
        "# delete unnecessary things (only keep the contents of image_02 directory)\n",
        "!rm -rf ./*/*/image_00/\n",
        "!rm -rf ./*/*/image_01/\n",
        "!rm -rf ./*/*/image_03/\n",
        "!rm -rf ./*/*/oxts/\n",
        "!rm -rf ./*/*/velodyne_points/"
      ],
      "execution_count": 0,
      "outputs": []
    },
    {
      "cell_type": "code",
      "metadata": {
        "id": "mxNE2PH1jC9B",
        "colab_type": "code",
        "colab": {}
      },
      "source": [
        "# get the urls from the RESIDENTAL section\n",
        "!curl -s http://www.cvlibs.net/datasets/kitti/raw_data.php?type=residential | grep -o \"https.\\{1,120\\}sync\\.zip\" > residential.txt"
      ],
      "execution_count": 0,
      "outputs": []
    },
    {
      "cell_type": "code",
      "metadata": {
        "id": "YUHh-5M75uWm",
        "colab_type": "code",
        "colab": {}
      },
      "source": [
        "# download the RESIDENTAL files\n",
        "!xargs -n 1 curl -O < residental.txt"
      ],
      "execution_count": 0,
      "outputs": []
    },
    {
      "cell_type": "code",
      "metadata": {
        "id": "R-6nDHH65sZR",
        "colab_type": "code",
        "colab": {}
      },
      "source": [
        "# collect all the zips\n",
        "!ls . | grep \"\\.zip\" > files.txt\n",
        "# extract them\n",
        "!xargs -n 1 unzip -q < files.txt\n",
        "# delete the zip files\n",
        "!xargs -n 1 rm < files.txt\n",
        "# remove the file list\n",
        "!rm files.txt"
      ],
      "execution_count": 0,
      "outputs": []
    },
    {
      "cell_type": "code",
      "metadata": {
        "id": "u0bmsDP15sVG",
        "colab_type": "code",
        "colab": {}
      },
      "source": [
        "# delete unnecessary things (only keep the contents of image_02 directory)\n",
        "!rm -rf ./*/*/image_00/\n",
        "!rm -rf ./*/*/image_01/\n",
        "!rm -rf ./*/*/image_03/\n",
        "!rm -rf ./*/*/oxts/\n",
        "!rm -rf ./*/*/velodyne_points/"
      ],
      "execution_count": 0,
      "outputs": []
    },
    {
      "cell_type": "code",
      "metadata": {
        "id": "LtYRjqgvxN2j",
        "colab_type": "code",
        "colab": {}
      },
      "source": [
        "# get the urls from the ROAD section\n",
        "!curl -s http://www.cvlibs.net/datasets/kitti/raw_data.php?type=road | grep -o \"https.\\{1,140\\}sync\\.zip\" > road.txt"
      ],
      "execution_count": 0,
      "outputs": []
    },
    {
      "cell_type": "code",
      "metadata": {
        "id": "PwYgU6TrxNyr",
        "colab_type": "code",
        "colab": {}
      },
      "source": [
        "# download the ROAD files\n",
        "!xargs -n 1 curl -O < road.txt"
      ],
      "execution_count": 0,
      "outputs": []
    },
    {
      "cell_type": "code",
      "metadata": {
        "id": "EVDVNtRlxNw4",
        "colab_type": "code",
        "colab": {}
      },
      "source": [
        "# collect all the zips\n",
        "!ls . | grep \"\\.zip\" > files.txt\n",
        "# extract them\n",
        "!xargs -n 1 unzip -q < files.txt\n",
        "# delete the zip files\n",
        "!xargs -n 1 rm < files.txt\n",
        "# remove the file list\n",
        "!rm files.txt"
      ],
      "execution_count": 0,
      "outputs": []
    },
    {
      "cell_type": "code",
      "metadata": {
        "id": "hTPUOI13xNsp",
        "colab_type": "code",
        "colab": {}
      },
      "source": [
        "# delete unnecessary things (only keep the contents of image_02 directory)\n",
        "!rm -rf ./*/*/image_00/\n",
        "!rm -rf ./*/*/image_01/\n",
        "!rm -rf ./*/*/image_03/\n",
        "!rm -rf ./*/*/oxts/\n",
        "!rm -rf ./*/*/velodyne_points/"
      ],
      "execution_count": 0,
      "outputs": []
    },
    {
      "cell_type": "code",
      "metadata": {
        "id": "Nnf-YvkvxNqS",
        "colab_type": "code",
        "colab": {}
      },
      "source": [
        "# download the preprocesing script\n",
        "!curl -s -O https://raw.githubusercontent.com/nyikovicsmate/thesis/dev/utils/preprocess.py\n",
        "# download requirements.txt\n",
        "!curl -s -O https://raw.githubusercontent.com/nyikovicsmate/thesis/dev/utils/requirements.txt"
      ],
      "execution_count": 0,
      "outputs": []
    },
    {
      "cell_type": "code",
      "metadata": {
        "id": "IqfCNZx4xNnj",
        "colab_type": "code",
        "colab": {}
      },
      "source": [
        "!pip3 install -r requirements.txt"
      ],
      "execution_count": 0,
      "outputs": []
    },
    {
      "cell_type": "code",
      "metadata": {
        "id": "yBZG1ZhExNj6",
        "colab_type": "code",
        "colab": {}
      },
      "source": [
        "!python3 preprocess.py -h"
      ],
      "execution_count": 0,
      "outputs": []
    },
    {
      "cell_type": "code",
      "metadata": {
        "id": "DfRYbPI9sJDw",
        "colab_type": "code",
        "colab": {}
      },
      "source": [
        "# preprocess the dataset\n",
        "!python3 preprocess.py -n \"bdd100k\" -f \"png\" -m \"scale\" -a 255 -g -s 70 70 "
      ],
      "execution_count": 0,
      "outputs": []
    }
  ]
}