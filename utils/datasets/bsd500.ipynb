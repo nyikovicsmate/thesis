{
  "nbformat": 4,
  "nbformat_minor": 0,
  "metadata": {
    "colab": {
      "name": "bsd500.ipynb",
      "provenance": [],
      "collapsed_sections": []
    },
    "kernelspec": {
      "name": "python3",
      "display_name": "Python 3"
    }
  },
  "cells": [
    {
      "cell_type": "code",
      "metadata": {
        "id": "9ZeWLpcG7RBz",
        "colab_type": "code",
        "colab": {
          "base_uri": "https://localhost:8080/",
          "height": 85
        },
        "outputId": "6640da13-f98d-4a5a-f652-22c314cd260a"
      },
      "source": [
        "# download the dataset (68 MB)\n",
        "!curl -L -O http://www.eecs.berkeley.edu/Research/Projects/CS/vision/grouping/BSR/BSR_bsds500.tgz\n",
        "# extract\n",
        "!tar -x -z -f BSR_bsds500.tgz"
      ],
      "execution_count": 8,
      "outputs": [
        {
          "output_type": "stream",
          "text": [
            "  % Total    % Received % Xferd  Average Speed   Time    Time     Time  Current\n",
            "                                 Dload  Upload   Total   Spent    Left  Speed\n",
            "  0     0    0     0    0     0      0      0 --:--:-- --:--:-- --:--:--     0\n",
            "100 67.4M  100 67.4M    0     0  24.0M      0  0:00:02  0:00:02 --:--:-- 32.4M\n"
          ],
          "name": "stdout"
        }
      ]
    },
    {
      "cell_type": "code",
      "metadata": {
        "id": "VZRmKPfk7y84",
        "colab_type": "code",
        "colab": {}
      },
      "source": [
        "# move things around\n",
        "!mv ./BSR/BSDS500/data/images ./images "
      ],
      "execution_count": 0,
      "outputs": []
    },
    {
      "cell_type": "code",
      "metadata": {
        "id": "OYrdGFy49OLn",
        "colab_type": "code",
        "colab": {}
      },
      "source": [
        "# cleanup\n",
        "!rm BSR_bsds500.tgz\n",
        "!rm -rf BSR/\n",
        "!rm -rf sample_data"
      ],
      "execution_count": 0,
      "outputs": []
    },
    {
      "cell_type": "code",
      "metadata": {
        "id": "898WV4Fw9Nzm",
        "colab_type": "code",
        "colab": {}
      },
      "source": [
        "# download the preprocesing script\n",
        "!curl -s -O https://raw.githubusercontent.com/nyikovicsmate/thesis/dev/utils/preprocess.py\n",
        "# download requirements.txt\n",
        "!curl -s -O https://raw.githubusercontent.com/nyikovicsmate/thesis/dev/utils/requirements.txt"
      ],
      "execution_count": 0,
      "outputs": []
    },
    {
      "cell_type": "code",
      "metadata": {
        "id": "ik_aDlXUNd0Z",
        "colab_type": "code",
        "colab": {}
      },
      "source": [
        "!pip3 install -r requirements.txt"
      ],
      "execution_count": 0,
      "outputs": []
    },
    {
      "cell_type": "code",
      "metadata": {
        "id": "70fcTlx79bUz",
        "colab_type": "code",
        "colab": {
          "base_uri": "https://localhost:8080/",
          "height": 476
        },
        "outputId": "199c7522-e506-4f45-b0f3-83e2600c52e3"
      },
      "source": [
        "!python3 preprocess.py -h"
      ],
      "execution_count": 13,
      "outputs": [
        {
          "output_type": "stream",
          "text": [
            "usage: preprocess.py [-h] [-a AUGMENT_VALUE] [-f {png,hdf,lmdb}] [-g]\n",
            "                     [-m {clip,clip_rnd,scale,scale_rnd}] [-n NAME]\n",
            "                     [-s SIZE SIZE]\n",
            "                     [root]\n",
            "\n",
            "positional arguments:\n",
            "  root                  The root directory from where the search for images\n",
            "                        starts. (default: '.)'\n",
            "\n",
            "optional arguments:\n",
            "  -h, --help            show this help message and exit\n",
            "  -a AUGMENT_VALUE, --augment AUGMENT_VALUE\n",
            "                        Besides preprocessed images, store augmented ones as\n",
            "                        well. Augmented image is a processed image with every\n",
            "                        2nd pixel (in a checkerboard pattern) set to\n",
            "                        augment_value [0-255].\n",
            "  -f {png,hdf,lmdb}, --format {png,hdf,lmdb}\n",
            "                        Output format to use. Supported: png, hdf, lmdb.\n",
            "                        (default: png)\n",
            "  -g, --grayscale       Grayscale images.\n",
            "  -m {clip,clip_rnd,scale,scale_rnd}, --method {clip,clip_rnd,scale,scale_rnd}\n",
            "                        Processing method to use. (default: scale)\n",
            "  -n NAME, --name NAME  Name of the output dataset file/directory. (default:\n",
            "                        'dataset')\n",
            "  -s SIZE SIZE, --size SIZE SIZE\n",
            "                        Output size of images [height, width]. (default: [225,\n",
            "                        225])\n"
          ],
          "name": "stdout"
        }
      ]
    },
    {
      "cell_type": "code",
      "metadata": {
        "id": "VFKDNUXa9bpK",
        "colab_type": "code",
        "colab": {
          "base_uri": "https://localhost:8080/",
          "height": 102
        },
        "outputId": "090ffed5-f6ea-4967-9ff8-bdbabd00d6a0"
      },
      "source": [
        "# preprocess the dataset\n",
        "!python3 preprocess.py -n \"bsd500\" -f \"png\" -m \"scale\" -a 255 -g -s 70 70 "
      ],
      "execution_count": 14,
      "outputs": [
        {
          "output_type": "stream",
          "text": [
            "Looking for images under /content\n",
            "Found 500 images.\n",
            "Processing images.\n",
            "100% 500/500 [00:02<00:00, 245.07it/s]\n",
            "Done.\n"
          ],
          "name": "stdout"
        }
      ]
    }
  ]
}