{
  "nbformat": 4,
  "nbformat_minor": 0,
  "metadata": {
    "colab": {
      "name": "bsd500.ipynb",
      "provenance": [],
      "collapsed_sections": []
    },
    "kernelspec": {
      "name": "python3",
      "display_name": "Python 3"
    }
  },
  "cells": [
    {
      "cell_type": "code",
      "metadata": {
        "id": "898WV4Fw9Nzm",
        "colab_type": "code",
        "colab": {}
      },
      "source": [
        "# download the preprocesing script\n",
        "!curl -s -O https://raw.githubusercontent.com/nyikovicsmate/thesis/dev/utils/preprocess.py\n",
        "# download requirements.txt\n",
        "!curl -s -O https://raw.githubusercontent.com/nyikovicsmate/thesis/dev/utils/requirements.txt"
      ],
      "execution_count": 0,
      "outputs": []
    },
    {
      "cell_type": "code",
      "metadata": {
        "id": "ik_aDlXUNd0Z",
        "colab_type": "code",
        "colab": {}
      },
      "source": [
        "!pip3 install -q -r requirements.txt"
      ],
      "execution_count": 0,
      "outputs": []
    },
    {
      "cell_type": "code",
      "metadata": {
        "id": "9ZeWLpcG7RBz",
        "colab_type": "code",
        "colab": {}
      },
      "source": [
        "# download the dataset (68 MB)\n",
        "!curl -L -O http://www.eecs.berkeley.edu/Research/Projects/CS/vision/grouping/BSR/BSR_bsds500.tgz\n",
        "# extract\n",
        "!tar -x -z -f BSR_bsds500.tgz"
      ],
      "execution_count": 0,
      "outputs": []
    },
    {
      "cell_type": "code",
      "metadata": {
        "id": "VZRmKPfk7y84",
        "colab_type": "code",
        "colab": {}
      },
      "source": [
        "# move the images to a separate folder\n",
        "!mv ./BSR/BSDS500/data/images ./images "
      ],
      "execution_count": 0,
      "outputs": []
    },
    {
      "cell_type": "code",
      "metadata": {
        "id": "OYrdGFy49OLn",
        "colab_type": "code",
        "colab": {}
      },
      "source": [
        "# remove unnecessary things\n",
        "!rm BSR_bsds500.tgz\n",
        "!rm -rf BSR/"
      ],
      "execution_count": 0,
      "outputs": []
    },
    {
      "cell_type": "code",
      "metadata": {
        "id": "70fcTlx79bUz",
        "colab_type": "code",
        "colab": {}
      },
      "source": [
        "!python3 preprocess.py -h"
      ],
      "execution_count": 0,
      "outputs": []
    },
    {
      "cell_type": "code",
      "metadata": {
        "id": "VFKDNUXa9bpK",
        "colab_type": "code",
        "colab": {}
      },
      "source": [
        "# preprocess the dataset\n",
        "!python3 preprocess.py -f \"hdf\" -m \"scale\" -g -s 35 35 ./bsd500_35_35 ./images\n",
        "!python3 preprocess.py -f \"hdf\" -m \"scale\" -a 255 -g -s 70 70 ./bsd500_70_70 ./images\n",
        "!python3 preprocess.py -f \"hdf\" -m \"scale\" -g -s 140 140 ./bsd500_140_140 ./images\n",
        "!python3 preprocess.py -f \"hdf\" -m \"scale\" -g -s 280 280 ./bsd500_280_280 ./images"
      ],
      "execution_count": 0,
      "outputs": []
    },
    {
      "cell_type": "code",
      "metadata": {
        "id": "5Ix9xi7FQlt-",
        "colab_type": "code",
        "colab": {}
      },
      "source": [
        "# zip the results for easier download\n",
        "!zip -r -q  bsd500.zip ./bsd500_*.h5 "
      ],
      "execution_count": 0,
      "outputs": []
    }
  ]
}