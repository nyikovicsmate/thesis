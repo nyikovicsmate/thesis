{
  "nbformat": 4,
  "nbformat_minor": 0,
  "metadata": {
    "colab": {
      "name": "fivek.ipynb",
      "provenance": [],
      "collapsed_sections": []
    },
    "kernelspec": {
      "name": "python3",
      "display_name": "Python 3"
    }
  },
  "cells": [
    {
      "cell_type": "code",
      "metadata": {
        "id": "RHAU3Yo1CY_b",
        "colab_type": "code",
        "colab": {}
      },
      "source": [
        "# download the preprocesing script\n",
        "!curl -s -O https://raw.githubusercontent.com/nyikovicsmate/thesis/dev/utils/preprocess.py\n",
        "# download requirements.txt\n",
        "!curl -s -O https://raw.githubusercontent.com/nyikovicsmate/thesis/dev/utils/requirements.txt"
      ],
      "execution_count": 0,
      "outputs": []
    },
    {
      "cell_type": "code",
      "metadata": {
        "id": "0wrFu8xFKecY",
        "colab_type": "code",
        "colab": {}
      },
      "source": [
        "!pip3 install -q -r requirements.txt"
      ],
      "execution_count": 0,
      "outputs": []
    },
    {
      "cell_type": "code",
      "metadata": {
        "id": "MVuQrdHp9v6_",
        "colab_type": "code",
        "colab": {}
      },
      "source": [
        "# download the dataset (47.3 GB)\n",
        "!curl -L -O  https://data.csail.mit.edu/graphics/fivek/fivek_dataset.tar"
      ],
      "execution_count": 0,
      "outputs": []
    },
    {
      "cell_type": "code",
      "metadata": {
        "id": "PU3_kLdOdfhD",
        "colab_type": "code",
        "colab": {}
      },
      "source": [
        "!tar -t -f fivek_dataset.tar | grep .dng > files.txt"
      ],
      "execution_count": 0,
      "outputs": []
    },
    {
      "cell_type": "code",
      "metadata": {
        "id": "_Z3oL0UK3u1g",
        "colab_type": "code",
        "colab": {}
      },
      "source": [
        "# there are 5000 images in the zip\n",
        "!awk 'END { print NR }' files.txt"
      ],
      "execution_count": 0,
      "outputs": []
    },
    {
      "cell_type": "code",
      "metadata": {
        "id": "aL9PWU4D3uyz",
        "colab_type": "code",
        "colab": {}
      },
      "source": [
        "# separate the files for processing\n",
        "!awk 'NR == 1, NR == 1000 { print \"\\\"\"$0\"\\\"\" }' files.txt > batch_1.txt\n",
        "!awk 'NR == 1001, NR == 2000 { print \"\\\"\"$0\"\\\"\" }' files.txt > batch_2.txt\n",
        "!awk 'NR == 2001, NR == 3000 { print \"\\\"\"$0\"\\\"\" }' files.txt > batch_3.txt\n",
        "!awk 'NR == 3001, NR == 4000 { print \"\\\"\"$0\"\\\"\" }' files.txt > batch_4.txt\n",
        "!awk 'NR >= 4001 { print \"\\\"\"$0\"\\\"\" }' files.txt > batch_5.txt"
      ],
      "execution_count": 0,
      "outputs": []
    },
    {
      "cell_type": "code",
      "metadata": {
        "id": "t_gNqpDR3uwH",
        "colab_type": "code",
        "colab": {}
      },
      "source": [
        "# extract the 1st batch\n",
        "!xargs -n 1 tar -x -f fivek_dataset.tar < batch_1.txt "
      ],
      "execution_count": 0,
      "outputs": []
    },
    {
      "cell_type": "code",
      "metadata": {
        "id": "n7PaGScJ3usW",
        "colab_type": "code",
        "colab": {}
      },
      "source": [
        "!python3 preprocess.py -h"
      ],
      "execution_count": 0,
      "outputs": []
    },
    {
      "cell_type": "code",
      "metadata": {
        "id": "WPRp78BV3uoR",
        "colab_type": "code",
        "colab": {}
      },
      "source": [
        "# preprocess the 1st batch dataset\n",
        "!python3 preprocess.py -f \"hdf\" -m \"scale\" -g -s 35 35 ./fivek_35_35_1 ./fivek_dataset\n",
        "!python3 preprocess.py -f \"hdf\" -m \"scale\" -a 255 -g -s 70 70 ./fivek_70_70_1 ./fivek_dataset\n",
        "!python3 preprocess.py -f \"hdf\" -m \"scale\" -g -s 140 140 ./fivek_140_140_1 ./fivek_dataset\n",
        "!python3 preprocess.py -f \"hdf\" -m \"scale\" -g -s 280 280 ./fivek_280_280_1 ./fivek_dataset"
      ],
      "execution_count": 0,
      "outputs": []
    },
    {
      "cell_type": "code",
      "metadata": {
        "id": "lF5MRmziDX1m",
        "colab_type": "code",
        "colab": {}
      },
      "source": [
        "# remove unnecessary things\n",
        "!rm -rf fivek_dataset"
      ],
      "execution_count": 0,
      "outputs": []
    },
    {
      "cell_type": "code",
      "metadata": {
        "id": "B9YHQedTDXx0",
        "colab_type": "code",
        "colab": {}
      },
      "source": [
        "# extract the 2nd batch\n",
        "!xargs -n 1 tar -x -f fivek_dataset.tar < batch_2.txt "
      ],
      "execution_count": 0,
      "outputs": []
    },
    {
      "cell_type": "code",
      "metadata": {
        "id": "DrB5mRBaDXom",
        "colab_type": "code",
        "colab": {}
      },
      "source": [
        "# preprocess the 2nd batch dataset\n",
        "!python3 preprocess.py -f \"hdf\" -m \"scale\" -g -s 35 35 ./fivek_35_35_2 ./fivek_dataset\n",
        "!python3 preprocess.py -f \"hdf\" -m \"scale\" -a 255 -g -s 70 70 ./fivek_70_70_2 ./fivek_dataset\n",
        "!python3 preprocess.py -f \"hdf\" -m \"scale\" -g -s 140 140 ./fivek_140_140_2 ./fivek_dataset\n",
        "!python3 preprocess.py -f \"hdf\" -m \"scale\" -g -s 280 280 ./fivek_280_280_2 ./fivek_dataset"
      ],
      "execution_count": 0,
      "outputs": []
    },
    {
      "cell_type": "code",
      "metadata": {
        "id": "1uVilb1IDXm_",
        "colab_type": "code",
        "colab": {}
      },
      "source": [
        "# remove unnecessary things\n",
        "!rm -rf fivek_dataset"
      ],
      "execution_count": 0,
      "outputs": []
    },
    {
      "cell_type": "code",
      "metadata": {
        "id": "5dMzw5xaDXly",
        "colab_type": "code",
        "colab": {}
      },
      "source": [
        "# extract the 3rd batch\n",
        "!xargs -n 1 tar -x -f fivek_dataset.tar < batch_3.txt "
      ],
      "execution_count": 0,
      "outputs": []
    },
    {
      "cell_type": "code",
      "metadata": {
        "id": "LXHgXVi-DXgx",
        "colab_type": "code",
        "colab": {}
      },
      "source": [
        "# preprocess the 3rd batch dataset\n",
        "!python3 preprocess.py -f \"hdf\" -m \"scale\" -g -s 35 35 ./fivek_35_35_3 ./fivek_dataset\n",
        "!python3 preprocess.py -f \"hdf\" -m \"scale\" -a 255 -g -s 70 70 ./fivek_70_70_3 ./fivek_dataset\n",
        "!python3 preprocess.py -f \"hdf\" -m \"scale\" -g -s 140 140 ./fivek_140_140_3 ./fivek_dataset\n",
        "!python3 preprocess.py -f \"hdf\" -m \"scale\" -g -s 280 280 ./fivek_280_280_3 ./fivek_dataset"
      ],
      "execution_count": 0,
      "outputs": []
    },
    {
      "cell_type": "code",
      "metadata": {
        "id": "SQqqixgeDXcQ",
        "colab_type": "code",
        "colab": {}
      },
      "source": [
        "# remove unnecessary things\n",
        "!rm -rf fivek_dataset"
      ],
      "execution_count": 0,
      "outputs": []
    },
    {
      "cell_type": "code",
      "metadata": {
        "id": "OHGDD-IADXZR",
        "colab_type": "code",
        "colab": {}
      },
      "source": [
        "# extract the 4th batch\n",
        "!xargs -n 1 tar -x -f fivek_dataset.tar < batch_4.txt "
      ],
      "execution_count": 0,
      "outputs": []
    },
    {
      "cell_type": "code",
      "metadata": {
        "id": "rcLFkX5jDXWb",
        "colab_type": "code",
        "colab": {}
      },
      "source": [
        "# preprocess the 4th batch dataset\n",
        "!python3 preprocess.py -f \"hdf\" -m \"scale\" -g -s 35 35 ./fivek_35_35_4 ./fivek_dataset\n",
        "!python3 preprocess.py -f \"hdf\" -m \"scale\" -a 255 -g -s 70 70 ./fivek_70_70_4 ./fivek_dataset\n",
        "!python3 preprocess.py -f \"hdf\" -m \"scale\" -g -s 140 140 ./fivek_140_140_4 ./fivek_dataset\n",
        "!python3 preprocess.py -f \"hdf\" -m \"scale\" -g -s 280 280 ./fivek_280_280_4 ./fivek_dataset"
      ],
      "execution_count": 0,
      "outputs": []
    },
    {
      "cell_type": "code",
      "metadata": {
        "id": "03BJL_qYDXSB",
        "colab_type": "code",
        "colab": {}
      },
      "source": [
        "# remove unnecessary things\n",
        "!rm -rf fivek_dataset"
      ],
      "execution_count": 0,
      "outputs": []
    },
    {
      "cell_type": "code",
      "metadata": {
        "id": "jTPvjw5FDcjl",
        "colab_type": "code",
        "colab": {}
      },
      "source": [
        "# extract the 5th batch\n",
        "!xargs -n 1 tar -x -f fivek_dataset.tar < batch_5.txt "
      ],
      "execution_count": 0,
      "outputs": []
    },
    {
      "cell_type": "code",
      "metadata": {
        "id": "jjy8teeuDcgb",
        "colab_type": "code",
        "colab": {}
      },
      "source": [
        "# preprocess the 5th batch dataset\n",
        "!python3 preprocess.py -f \"hdf\" -m \"scale\" -g -s 35 35 ./fivek_35_35_5 ./fivek_dataset\n",
        "!python3 preprocess.py -f \"hdf\" -m \"scale\" -a 255 -g -s 70 70 ./fivek_70_70_5 ./fivek_dataset\n",
        "!python3 preprocess.py -f \"hdf\" -m \"scale\" -g -s 140 140 ./fivek_140_140_5 ./fivek_dataset\n",
        "!python3 preprocess.py -f \"hdf\" -m \"scale\" -g -s 280 280 ./fivek_280_280_5 ./fivek_dataset"
      ],
      "execution_count": 0,
      "outputs": []
    },
    {
      "cell_type": "code",
      "metadata": {
        "id": "RVFWHXYV--o9",
        "colab_type": "code",
        "colab": {}
      },
      "source": [
        "# remove unnecessary things\n",
        "!rm fivek_dataset.tar\n",
        "!rm -rf fivek_dataset"
      ],
      "execution_count": 0,
      "outputs": []
    },
    {
      "cell_type": "code",
      "metadata": {
        "id": "LcI3kHyJEI9x",
        "colab_type": "code",
        "colab": {}
      },
      "source": [
        "# download the hdf dataset aggregator script\n",
        "!curl -s -O https://raw.githubusercontent.com/nyikovicsmate/thesis/dev/utils/hdf_aggregator.py"
      ],
      "execution_count": 0,
      "outputs": []
    },
    {
      "cell_type": "code",
      "metadata": {
        "id": "7-3fUPqUEI6Q",
        "colab_type": "code",
        "colab": {}
      },
      "source": [
        "!python3 hdf_aggregator.py -h"
      ],
      "execution_count": 0,
      "outputs": []
    },
    {
      "cell_type": "code",
      "metadata": {
        "id": "M1f5qrCpEI25",
        "colab_type": "code",
        "colab": {}
      },
      "source": [
        "# aggregate the datasets\n",
        "!python3 hdf_aggregator.py ./fivek_35_35 ./fivek_35_35_*\n",
        "!python3 hdf_aggregator.py ./fivek_70_70 ./fivek_70_70_*\n",
        "!python3 hdf_aggregator.py ./fivek_140_140 ./fivek_140_140_*\n",
        "!python3 hdf_aggregator.py ./fivek_280_280 ./fivek_280_280_*"
      ],
      "execution_count": 0,
      "outputs": []
    },
    {
      "cell_type": "code",
      "metadata": {
        "id": "Ms-IX2QeU7KA",
        "colab_type": "code",
        "colab": {}
      },
      "source": [
        "# zip the results for easier download\n",
        "!zip -r -q  fivek_.zip ./fivek_35_35.h5 ./fivek_70_70.h5 ./fivek_140_140.h5 ./fivek_280_280.h5 "
      ],
      "execution_count": 0,
      "outputs": []
    }
  ]
}