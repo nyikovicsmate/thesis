{
  "nbformat": 4,
  "nbformat_minor": 0,
  "metadata": {
    "colab": {
      "name": "fivek.ipynb",
      "provenance": [],
      "collapsed_sections": []
    },
    "kernelspec": {
      "name": "python3",
      "display_name": "Python 3"
    }
  },
  "cells": [
    {
      "cell_type": "code",
      "metadata": {
        "id": "MVuQrdHp9v6_",
        "colab_type": "code",
        "colab": {}
      },
      "source": [
        "# download the dataset (47.3 GB)\n",
        "!curl -L -O https://data.csail.mit.edu/graphics/fivek/fivek_dataset.tar\n",
        "# extract\n",
        "!tar -x -f fivek_dataset.tar"
      ],
      "execution_count": 0,
      "outputs": []
    },
    {
      "cell_type": "code",
      "metadata": {
        "id": "SkXSZFqm-JdP",
        "colab_type": "code",
        "colab": {}
      },
      "source": [
        "# move things around\n",
        "!mkdir images\n",
        "!mv ./fivek_dataset/raw_photos/HQ* ./images "
      ],
      "execution_count": 0,
      "outputs": []
    },
    {
      "cell_type": "code",
      "metadata": {
        "id": "RVFWHXYV--o9",
        "colab_type": "code",
        "colab": {}
      },
      "source": [
        "# cleanup\n",
        "!rm fivek_dataset.tar\n",
        "!rm -rf fivek_dataset\n",
        "!rm -rf sample_data"
      ],
      "execution_count": 0,
      "outputs": []
    },
    {
      "cell_type": "code",
      "metadata": {
        "id": "RHAU3Yo1CY_b",
        "colab_type": "code",
        "colab": {}
      },
      "source": [
        "# download the preprocesing script\n",
        "!curl -s -O https://raw.githubusercontent.com/nyikovicsmate/thesis/dev/utils/preprocess.py\n",
        "# download requirements.txt\n",
        "!curl -s -O https://raw.githubusercontent.com/nyikovicsmate/thesis/dev/utils/requirements.txt"
      ],
      "execution_count": 0,
      "outputs": []
    },
    {
      "cell_type": "code",
      "metadata": {
        "id": "0wrFu8xFKecY",
        "colab_type": "code",
        "colab": {}
      },
      "source": [
        "!pip3 install -r requirements.txt"
      ],
      "execution_count": 0,
      "outputs": []
    },
    {
      "cell_type": "code",
      "metadata": {
        "id": "-FMaJU6_GhKn",
        "colab_type": "code",
        "colab": {
          "base_uri": "https://localhost:8080/",
          "height": 476
        },
        "outputId": "d1065123-7fbf-44f7-8b6e-047258e1ad05"
      },
      "source": [
        "!python3 preprocess.py -h"
      ],
      "execution_count": 15,
      "outputs": [
        {
          "output_type": "stream",
          "text": [
            "usage: preprocess.py [-h] [-a AUGMENT_VALUE] [-f {png,hdf,lmdb}] [-g]\n",
            "                     [-m {clip,clip_rnd,scale,scale_rnd}] [-n NAME]\n",
            "                     [-s SIZE SIZE]\n",
            "                     [root]\n",
            "\n",
            "positional arguments:\n",
            "  root                  The root directory from where the search for images\n",
            "                        starts. (default: '.)'\n",
            "\n",
            "optional arguments:\n",
            "  -h, --help            show this help message and exit\n",
            "  -a AUGMENT_VALUE, --augment AUGMENT_VALUE\n",
            "                        Besides preprocessed images, store augmented ones as\n",
            "                        well. Augmented image is a processed image with every\n",
            "                        2nd pixel (in a checkerboard pattern) set to\n",
            "                        augment_value [0-255].\n",
            "  -f {png,hdf,lmdb}, --format {png,hdf,lmdb}\n",
            "                        Output format to use. Supported: png, hdf, lmdb.\n",
            "                        (default: png)\n",
            "  -g, --grayscale       Grayscale images.\n",
            "  -m {clip,clip_rnd,scale,scale_rnd}, --method {clip,clip_rnd,scale,scale_rnd}\n",
            "                        Processing method to use. (default: scale)\n",
            "  -n NAME, --name NAME  Name of the output dataset file/directory. (default:\n",
            "                        'dataset')\n",
            "  -s SIZE SIZE, --size SIZE SIZE\n",
            "                        Output size of images [height, width]. (default: [225,\n",
            "                        225])\n"
          ],
          "name": "stdout"
        }
      ]
    },
    {
      "cell_type": "code",
      "metadata": {
        "id": "yYJFl9HjGhra",
        "colab_type": "code",
        "colab": {}
      },
      "source": [
        "# preprocess the dataset\n",
        "!python3 preprocess.py -n \"fivek\" -f \"png\" -m \"scale\" -a 255 -g -s 70 70 "
      ],
      "execution_count": 0,
      "outputs": []
    }
  ]
}